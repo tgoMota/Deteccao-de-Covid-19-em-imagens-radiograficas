{
 "cells": [
  {
   "cell_type": "code",
   "execution_count": 1,
   "metadata": {
    "id": "on-xhn6xYqDo"
   },
   "outputs": [],
   "source": [
    "import tensorflow as tf\n",
    "from tensorflow import keras\n",
    "import matplotlib.pyplot as plt\n",
    "import os\n",
    "import time"
   ]
  },
  {
   "cell_type": "code",
   "execution_count": 2,
   "metadata": {
    "id": "Zq5nydmlidrt"
   },
   "outputs": [],
   "source": [
    "import torchxrayvision as xrv\n",
    "import cv2\n",
    "import os\n",
    "from tqdm import tqdm\n",
    "import matplotlib.pyplot as plt\n",
    "import numpy as np\n",
    "import glob\n",
    "from tensorflow.keras.preprocessing.image import ImageDataGenerator\n",
    "from tensorflow.keras.applications import *\n",
    "from tensorflow.keras.layers import *\n",
    "from tensorflow.keras.models import *\n",
    "from tensorflow.keras.optimizers import Adam\n",
    "from tensorflow.keras.utils import to_categorical\n",
    "from sklearn.preprocessing import LabelEncoder\n",
    "from sklearn.model_selection import train_test_split\n",
    "from sklearn.metrics import *\n",
    "from tensorflow.keras.callbacks import *\n",
    "from tensorflow.keras.utils import to_categorical"
   ]
  },
  {
   "cell_type": "code",
   "execution_count": 3,
   "metadata": {},
   "outputs": [],
   "source": [
    "new_img_height = 128\n",
    "new_img_width = 128\n",
    "channels = 3"
   ]
  },
  {
   "cell_type": "markdown",
   "metadata": {
    "id": "yfeZvMIEDOwS"
   },
   "source": [
    "# **VGG19**"
   ]
  },
  {
   "cell_type": "code",
   "execution_count": 4,
   "metadata": {
    "id": "-D_EkK-1D2kw"
   },
   "outputs": [],
   "source": [
    "CLASS_NAMES= ['No Finding', 'COVID-19']"
   ]
  },
  {
   "cell_type": "code",
   "execution_count": 5,
   "metadata": {
    "id": "98Cf8ZeSEbCU"
   },
   "outputs": [],
   "source": [
    "from sklearn.model_selection import train_test_split"
   ]
  },
  {
   "cell_type": "code",
   "execution_count": 6,
   "metadata": {},
   "outputs": [],
   "source": [
    "train_x = np.load('train_x.npy')\n",
    "train_label = np.load('train_label.npy')\n",
    "test_x = np.load('test_x.npy')\n",
    "test_label = np.load('test_label.npy')\n",
    "validation_x = np.load('validation_x.npy')\n",
    "validation_label = np.load('validation_label.npy')"
   ]
  },
  {
   "cell_type": "code",
   "execution_count": 7,
   "metadata": {
    "id": "BiIjdq89J1uJ"
   },
   "outputs": [],
   "source": [
    "from tensorflow import keras\n",
    "from tensorflow.keras.models import Sequential\n",
    "from tensorflow.keras.layers import Dense, Activation, Dropout, Flatten, Conv2D, MaxPooling2D\n",
    "from tensorflow.keras.regularizers import l2\n",
    "from tensorflow.keras.callbacks import EarlyStopping"
   ]
  },
  {
   "cell_type": "code",
   "execution_count": 8,
   "metadata": {
    "colab": {
     "base_uri": "https://localhost:8080/"
    },
    "id": "_b34E1jltAPD",
    "outputId": "f0e51d31-16c9-4c4d-d2ce-a4e94619f92d"
   },
   "outputs": [
    {
     "data": {
      "text/plain": [
       "dtype('float16')"
      ]
     },
     "execution_count": 8,
     "metadata": {},
     "output_type": "execute_result"
    }
   ],
   "source": [
    "train_label.dtype"
   ]
  },
  {
   "cell_type": "code",
   "execution_count": 9,
   "metadata": {
    "colab": {
     "base_uri": "https://localhost:8080/"
    },
    "id": "j0vHxhMjLyhJ",
    "outputId": "e5ec2803-8f76-4719-e279-27c52eb8d72d"
   },
   "outputs": [],
   "source": [
    "from tensorflow.keras import layers\n",
    "from tensorflow.keras.layers import Input, Add, Dense, Activation, ZeroPadding2D, BatchNormalization, Flatten, Conv2D, AveragePooling2D, MaxPooling2D, GlobalMaxPooling2D\n",
    "from tensorflow.keras.models import Model, load_model\n",
    "from tensorflow.keras.preprocessing import image\n",
    "\n",
    "from IPython.display import SVG\n",
    "import scipy.misc"
   ]
  },
  {
   "cell_type": "code",
   "execution_count": 10,
   "metadata": {},
   "outputs": [],
   "source": [
    "import efficientnet.tfkeras as efc"
   ]
  },
  {
   "cell_type": "code",
   "execution_count": 11,
   "metadata": {},
   "outputs": [],
   "source": [
    "from tensorflow.keras.applications import EfficientNetB0\n",
    "from tensorflow.keras.applications import EfficientNetB1\n",
    "from tensorflow.keras.applications import EfficientNetB2\n",
    "from tensorflow.keras.applications import EfficientNetB3\n",
    "from tensorflow.keras.applications import EfficientNetB4\n",
    "from tensorflow.keras.applications import EfficientNetB5\n",
    "from tensorflow.keras.applications import EfficientNetB6\n",
    "from tensorflow.keras.applications import EfficientNetB7\n",
    "from tensorflow.keras.applications import *"
   ]
  },
  {
   "cell_type": "code",
   "execution_count": 12,
   "metadata": {},
   "outputs": [
    {
     "name": "stdout",
     "output_type": "stream",
     "text": [
      "WARNING:tensorflow:From <ipython-input-12-baa8f7c864e4>:3: set_learning_phase (from tensorflow.python.keras.backend) is deprecated and will be removed after 2020-10-11.\n",
      "Instructions for updating:\n",
      "Simply pass a True/False value to the `training` argument of the `__call__` method of your layer or model.\n"
     ]
    }
   ],
   "source": [
    "import tensorflow.keras.backend as K\n",
    "K.set_image_data_format('channels_last')\n",
    "K.set_learning_phase(1)"
   ]
  },
  {
   "cell_type": "code",
   "execution_count": 13,
   "metadata": {},
   "outputs": [],
   "source": [
    "model = tf.keras.applications.VGG19(\n",
    "    include_top=False,\n",
    "    weights=\"imagenet\",\n",
    "    input_tensor=None,\n",
    "    input_shape=(128,128,3),\n",
    "    pooling=None,\n",
    "    classes=2,\n",
    "    classifier_activation=\"softmax\",\n",
    "#    **kwargs\n",
    ")"
   ]
  },
  {
   "cell_type": "code",
   "execution_count": 14,
   "metadata": {},
   "outputs": [],
   "source": [
    "from tensorflow.keras import models\n",
    "from tensorflow.keras import layers\n",
    "\n",
    "new_model = models.Sequential()\n",
    "new_model.add(model)\n",
    "#2rd conv layer\n",
    "new_model.add(tf.keras.layers.Conv2D(32, 3, padding=\"same\"))\n",
    "new_model.add(tf.keras.layers.BatchNormalization())\n",
    "new_model.add(tf.keras.layers.Activation(\"relu\"))\n",
    "new_model.add(tf.keras.layers.MaxPooling2D(2))\n",
    "#3th conv layer\n",
    "new_model.add(tf.keras.layers.Conv2D(64, 3, padding=\"same\"))\n",
    "new_model.add(tf.keras.layers.BatchNormalization())\n",
    "new_model.add(tf.keras.layers.Activation(\"relu\"))\n",
    "new_model.add(tf.keras.layers.MaxPooling2D(2))\n",
    "#Flatten Layer\n",
    "new_model.add(tf.keras.layers.Flatten())\n",
    "\n",
    "new_model.add(tf.keras.layers.Dense(128, kernel_regularizer =tf.keras.regularizers.l2( l=0.01)))\n",
    "new_model.add(tf.keras.layers.BatchNormalization())\n",
    "new_model.add(tf.keras.layers.Activation(\"relu\"))\n",
    "new_model.add(tf.keras.layers.Dropout(0.2))\n",
    "#output Dense Layer\n",
    "new_model.add(tf.keras.layers.Dense(2))\n",
    "new_model.add(tf.keras.layers.Activation('softmax'))\n",
    "adam = tf.keras.optimizers.Adam(lr=0.001)\n"
   ]
  },
  {
   "cell_type": "code",
   "execution_count": 15,
   "metadata": {},
   "outputs": [
    {
     "name": "stdout",
     "output_type": "stream",
     "text": [
      "Model: \"sequential\"\n",
      "_________________________________________________________________\n",
      "Layer (type)                 Output Shape              Param #   \n",
      "=================================================================\n",
      "vgg19 (Functional)           (None, 4, 4, 512)         20024384  \n",
      "_________________________________________________________________\n",
      "conv2d (Conv2D)              (None, 4, 4, 32)          147488    \n",
      "_________________________________________________________________\n",
      "batch_normalization (BatchNo (None, 4, 4, 32)          128       \n",
      "_________________________________________________________________\n",
      "activation (Activation)      (None, 4, 4, 32)          0         \n",
      "_________________________________________________________________\n",
      "max_pooling2d (MaxPooling2D) (None, 2, 2, 32)          0         \n",
      "_________________________________________________________________\n",
      "conv2d_1 (Conv2D)            (None, 2, 2, 64)          18496     \n",
      "_________________________________________________________________\n",
      "batch_normalization_1 (Batch (None, 2, 2, 64)          256       \n",
      "_________________________________________________________________\n",
      "activation_1 (Activation)    (None, 2, 2, 64)          0         \n",
      "_________________________________________________________________\n",
      "max_pooling2d_1 (MaxPooling2 (None, 1, 1, 64)          0         \n",
      "_________________________________________________________________\n",
      "flatten (Flatten)            (None, 64)                0         \n",
      "_________________________________________________________________\n",
      "dense (Dense)                (None, 128)               8320      \n",
      "_________________________________________________________________\n",
      "batch_normalization_2 (Batch (None, 128)               512       \n",
      "_________________________________________________________________\n",
      "activation_2 (Activation)    (None, 128)               0         \n",
      "_________________________________________________________________\n",
      "dropout (Dropout)            (None, 128)               0         \n",
      "_________________________________________________________________\n",
      "dense_1 (Dense)              (None, 2)                 258       \n",
      "_________________________________________________________________\n",
      "activation_3 (Activation)    (None, 2)                 0         \n",
      "=================================================================\n",
      "Total params: 20,199,842\n",
      "Trainable params: 20,199,394\n",
      "Non-trainable params: 448\n",
      "_________________________________________________________________\n"
     ]
    }
   ],
   "source": [
    "new_model.summary()"
   ]
  },
  {
   "cell_type": "code",
   "execution_count": 16,
   "metadata": {},
   "outputs": [
    {
     "name": "stdout",
     "output_type": "stream",
     "text": [
      "Epoch 1/50\n",
      " 2/50 [>.............................] - ETA: 8s - loss: 1.5215 - acc: 0.5000WARNING:tensorflow:Callbacks method `on_train_batch_end` is slow compared to the batch time (batch time: 0.1160s vs `on_train_batch_end` time: 0.2340s). Check your callbacks.\n",
      "50/50 [==============================] - 24s 472ms/step - loss: 1.2670 - acc: 0.6011 - val_loss: 29.0806 - val_acc: 0.4861\n",
      "Epoch 2/50\n",
      "50/50 [==============================] - 19s 385ms/step - loss: 0.8859 - acc: 0.6295 - val_loss: 0.9343 - val_acc: 0.4861\n",
      "Epoch 3/50\n",
      "50/50 [==============================] - 19s 384ms/step - loss: 0.7287 - acc: 0.6597 - val_loss: 22.9398 - val_acc: 0.4861\n",
      "Epoch 4/50\n",
      "50/50 [==============================] - 19s 386ms/step - loss: 0.6380 - acc: 0.7064 - val_loss: 66.9344 - val_acc: 0.4861\n",
      "Epoch 5/50\n",
      "50/50 [==============================] - 19s 385ms/step - loss: 0.6004 - acc: 0.7133 - val_loss: 89.0085 - val_acc: 0.4861\n",
      "Epoch 6/50\n",
      "50/50 [==============================] - 19s 385ms/step - loss: 0.5767 - acc: 0.7234 - val_loss: 15.1618 - val_acc: 0.5139\n",
      "Epoch 7/50\n",
      "50/50 [==============================] - 19s 388ms/step - loss: 0.5860 - acc: 0.7114 - val_loss: 2.3730 - val_acc: 0.5139\n",
      "Epoch 8/50\n",
      "50/50 [==============================] - 19s 383ms/step - loss: 0.5636 - acc: 0.7341 - val_loss: 20.6567 - val_acc: 0.4861\n",
      "Epoch 9/50\n",
      "50/50 [==============================] - 19s 384ms/step - loss: 0.5506 - acc: 0.7379 - val_loss: 2.5072 - val_acc: 0.5139\n",
      "Epoch 10/50\n",
      "50/50 [==============================] - 19s 384ms/step - loss: 0.5502 - acc: 0.7410 - val_loss: 125.7791 - val_acc: 0.4861\n",
      "Epoch 11/50\n",
      "50/50 [==============================] - 19s 384ms/step - loss: 0.5673 - acc: 0.7253 - val_loss: 475.9419 - val_acc: 0.4861\n",
      "Epoch 12/50\n",
      "50/50 [==============================] - 19s 384ms/step - loss: 0.5756 - acc: 0.7190 - val_loss: 69.2791 - val_acc: 0.5139\n",
      "Epoch 13/50\n",
      "50/50 [==============================] - 19s 383ms/step - loss: 0.6026 - acc: 0.6925 - val_loss: 12.9884 - val_acc: 0.5139\n",
      "Epoch 14/50\n",
      "50/50 [==============================] - 19s 384ms/step - loss: 0.5786 - acc: 0.7089 - val_loss: 797.3131 - val_acc: 0.4861\n",
      "Epoch 15/50\n",
      "50/50 [==============================] - 19s 384ms/step - loss: 0.5906 - acc: 0.7070 - val_loss: 950.6733 - val_acc: 0.4861\n",
      "Epoch 16/50\n",
      "50/50 [==============================] - 19s 384ms/step - loss: 0.5803 - acc: 0.7215 - val_loss: 109.6563 - val_acc: 0.5139\n",
      "Epoch 17/50\n",
      "50/50 [==============================] - 19s 384ms/step - loss: 0.5915 - acc: 0.7032 - val_loss: 64.5249 - val_acc: 0.4861\n",
      "Epoch 18/50\n",
      "50/50 [==============================] - 19s 384ms/step - loss: 0.5850 - acc: 0.7070 - val_loss: 36.6619 - val_acc: 0.5139\n",
      "Epoch 19/50\n",
      "50/50 [==============================] - 19s 384ms/step - loss: 0.5623 - acc: 0.7278 - val_loss: 1485.4875 - val_acc: 0.4861\n",
      "Epoch 20/50\n",
      "50/50 [==============================] - 19s 383ms/step - loss: 0.5662 - acc: 0.7303 - val_loss: 1552.9420 - val_acc: 0.4861\n",
      "Epoch 21/50\n",
      "50/50 [==============================] - 19s 384ms/step - loss: 0.5660 - acc: 0.7335 - val_loss: 9.8336 - val_acc: 0.5139\n",
      "Epoch 22/50\n",
      "50/50 [==============================] - 19s 384ms/step - loss: 0.5824 - acc: 0.7259 - val_loss: 81.8831 - val_acc: 0.5139\n",
      "Epoch 23/50\n",
      "50/50 [==============================] - 19s 386ms/step - loss: 0.5980 - acc: 0.7032 - val_loss: 100.9080 - val_acc: 0.5139\n",
      "Epoch 24/50\n",
      "50/50 [==============================] - 19s 386ms/step - loss: 0.6020 - acc: 0.6799 - val_loss: 1380.7964 - val_acc: 0.4861\n",
      "Epoch 25/50\n",
      "50/50 [==============================] - 19s 387ms/step - loss: 0.5818 - acc: 0.7234 - val_loss: 31.8637 - val_acc: 0.4861\n",
      "Epoch 26/50\n",
      "50/50 [==============================] - 19s 386ms/step - loss: 0.5677 - acc: 0.7234 - val_loss: 59.7076 - val_acc: 0.5139\n",
      "Epoch 27/50\n",
      "50/50 [==============================] - 19s 386ms/step - loss: 0.5624 - acc: 0.7303 - val_loss: 449.7905 - val_acc: 0.4861\n",
      "Epoch 28/50\n",
      "50/50 [==============================] - 19s 385ms/step - loss: 0.5824 - acc: 0.7202 - val_loss: 133.9402 - val_acc: 0.5139\n",
      "Epoch 29/50\n",
      "50/50 [==============================] - 19s 384ms/step - loss: 0.5695 - acc: 0.7196 - val_loss: 58.1304 - val_acc: 0.5139\n",
      "Epoch 30/50\n",
      "50/50 [==============================] - 19s 383ms/step - loss: 0.5620 - acc: 0.7278 - val_loss: 58.7155 - val_acc: 0.5139\n",
      "Epoch 31/50\n",
      "50/50 [==============================] - 19s 385ms/step - loss: 0.5497 - acc: 0.7322 - val_loss: 6.6528 - val_acc: 0.5139\n",
      "Epoch 32/50\n",
      "50/50 [==============================] - 19s 385ms/step - loss: 0.5434 - acc: 0.7353 - val_loss: 31.6686 - val_acc: 0.5139\n",
      "Epoch 33/50\n",
      "50/50 [==============================] - 19s 386ms/step - loss: 0.5337 - acc: 0.7480 - val_loss: 1.9657 - val_acc: 0.5139\n",
      "Epoch 34/50\n",
      "50/50 [==============================] - 19s 384ms/step - loss: 0.5343 - acc: 0.7543 - val_loss: 219.8637 - val_acc: 0.4861\n",
      "Epoch 35/50\n",
      "50/50 [==============================] - 19s 384ms/step - loss: 0.5574 - acc: 0.7215 - val_loss: 949.0413 - val_acc: 0.4861\n",
      "Epoch 36/50\n",
      "50/50 [==============================] - 19s 384ms/step - loss: 0.5497 - acc: 0.7316 - val_loss: 74.3139 - val_acc: 0.4861\n",
      "Epoch 37/50\n",
      "50/50 [==============================] - 19s 386ms/step - loss: 0.5441 - acc: 0.7360 - val_loss: 63.1933 - val_acc: 0.5139\n",
      "Epoch 38/50\n",
      "50/50 [==============================] - 19s 384ms/step - loss: 0.5411 - acc: 0.7435 - val_loss: 2.6242 - val_acc: 0.4861\n",
      "Epoch 39/50\n",
      "50/50 [==============================] - 19s 385ms/step - loss: 0.5447 - acc: 0.7429 - val_loss: 13.3310 - val_acc: 0.5139\n",
      "Epoch 40/50\n",
      "50/50 [==============================] - 20s 394ms/step - loss: 0.5467 - acc: 0.7379 - val_loss: 15.9007 - val_acc: 0.5139\n",
      "Epoch 41/50\n",
      "50/50 [==============================] - 20s 399ms/step - loss: 0.5378 - acc: 0.7353 - val_loss: 52.8926 - val_acc: 0.5139\n",
      "Epoch 42/50\n",
      "50/50 [==============================] - 20s 399ms/step - loss: 0.5260 - acc: 0.7473 - val_loss: 48.7952 - val_acc: 0.5139\n",
      "Epoch 43/50\n",
      "50/50 [==============================] - 20s 400ms/step - loss: 0.5202 - acc: 0.7498 - val_loss: 3.4948 - val_acc: 0.5139\n",
      "Epoch 44/50\n",
      "50/50 [==============================] - 20s 400ms/step - loss: 0.5156 - acc: 0.7549 - val_loss: 43.4931 - val_acc: 0.5139\n",
      "Epoch 45/50\n",
      "50/50 [==============================] - 20s 399ms/step - loss: 0.5097 - acc: 0.7555 - val_loss: 27.0455 - val_acc: 0.5139\n",
      "Epoch 46/50\n",
      "50/50 [==============================] - 19s 386ms/step - loss: 0.5085 - acc: 0.7580 - val_loss: 18.4543 - val_acc: 0.5139\n",
      "Epoch 47/50\n",
      "50/50 [==============================] - 19s 385ms/step - loss: 0.5149 - acc: 0.7662 - val_loss: 30.1450 - val_acc: 0.5139\n",
      "Epoch 48/50\n",
      "50/50 [==============================] - 19s 385ms/step - loss: 0.5102 - acc: 0.7656 - val_loss: 33.7905 - val_acc: 0.4861\n",
      "Epoch 49/50\n",
      "50/50 [==============================] - 19s 385ms/step - loss: 0.5046 - acc: 0.7706 - val_loss: 17.9242 - val_acc: 0.5139\n",
      "Epoch 50/50\n",
      "50/50 [==============================] - 19s 384ms/step - loss: 0.4981 - acc: 0.7738 - val_loss: 65.6481 - val_acc: 0.4861\n"
     ]
    }
   ],
   "source": [
    "epochs = 50\n",
    "num_classes = 2\n",
    "\n",
    "#compila e treina o modelo com os dados carregados\n",
    "new_model.compile(loss='sparse_categorical_crossentropy', metrics=['acc'], optimizer=adam)\n",
    "model_trained = new_model.fit(train_x, train_label,epochs=epochs,verbose=1,validation_data=(validation_x, validation_label),shuffle=False)"
   ]
  },
  {
   "cell_type": "code",
   "execution_count": 17,
   "metadata": {},
   "outputs": [
    {
     "name": "stdout",
     "output_type": "stream",
     "text": [
      "Model: \"vgg19\"\n",
      "_________________________________________________________________\n",
      "Layer (type)                 Output Shape              Param #   \n",
      "=================================================================\n",
      "input_1 (InputLayer)         [(None, 128, 128, 3)]     0         \n",
      "_________________________________________________________________\n",
      "block1_conv1 (Conv2D)        (None, 128, 128, 64)      1792      \n",
      "_________________________________________________________________\n",
      "block1_conv2 (Conv2D)        (None, 128, 128, 64)      36928     \n",
      "_________________________________________________________________\n",
      "block1_pool (MaxPooling2D)   (None, 64, 64, 64)        0         \n",
      "_________________________________________________________________\n",
      "block2_conv1 (Conv2D)        (None, 64, 64, 128)       73856     \n",
      "_________________________________________________________________\n",
      "block2_conv2 (Conv2D)        (None, 64, 64, 128)       147584    \n",
      "_________________________________________________________________\n",
      "block2_pool (MaxPooling2D)   (None, 32, 32, 128)       0         \n",
      "_________________________________________________________________\n",
      "block3_conv1 (Conv2D)        (None, 32, 32, 256)       295168    \n",
      "_________________________________________________________________\n",
      "block3_conv2 (Conv2D)        (None, 32, 32, 256)       590080    \n",
      "_________________________________________________________________\n",
      "block3_conv3 (Conv2D)        (None, 32, 32, 256)       590080    \n",
      "_________________________________________________________________\n",
      "block3_conv4 (Conv2D)        (None, 32, 32, 256)       590080    \n",
      "_________________________________________________________________\n",
      "block3_pool (MaxPooling2D)   (None, 16, 16, 256)       0         \n",
      "_________________________________________________________________\n",
      "block4_conv1 (Conv2D)        (None, 16, 16, 512)       1180160   \n",
      "_________________________________________________________________\n",
      "block4_conv2 (Conv2D)        (None, 16, 16, 512)       2359808   \n",
      "_________________________________________________________________\n",
      "block4_conv3 (Conv2D)        (None, 16, 16, 512)       2359808   \n",
      "_________________________________________________________________\n",
      "block4_conv4 (Conv2D)        (None, 16, 16, 512)       2359808   \n",
      "_________________________________________________________________\n",
      "block4_pool (MaxPooling2D)   (None, 8, 8, 512)         0         \n",
      "_________________________________________________________________\n",
      "block5_conv1 (Conv2D)        (None, 8, 8, 512)         2359808   \n",
      "_________________________________________________________________\n",
      "block5_conv2 (Conv2D)        (None, 8, 8, 512)         2359808   \n",
      "_________________________________________________________________\n",
      "block5_conv3 (Conv2D)        (None, 8, 8, 512)         2359808   \n",
      "_________________________________________________________________\n",
      "block5_conv4 (Conv2D)        (None, 8, 8, 512)         2359808   \n",
      "_________________________________________________________________\n",
      "block5_pool (MaxPooling2D)   (None, 4, 4, 512)         0         \n",
      "=================================================================\n",
      "Total params: 20,024,384\n",
      "Trainable params: 20,024,384\n",
      "Non-trainable params: 0\n",
      "_________________________________________________________________\n"
     ]
    }
   ],
   "source": [
    "model.summary()"
   ]
  },
  {
   "cell_type": "markdown",
   "metadata": {},
   "source": [
    "**Random Forest**"
   ]
  },
  {
   "cell_type": "code",
   "execution_count": 18,
   "metadata": {},
   "outputs": [],
   "source": [
    "from sklearn import metrics\n",
    "from sklearn.ensemble import RandomForestClassifier\n",
    "from sklearn import tree\n",
    "import numpy as np\n",
    "import seaborn as sns\n",
    "import matplotlib.pylab as plt"
   ]
  },
  {
   "cell_type": "code",
   "execution_count": 19,
   "metadata": {},
   "outputs": [],
   "source": [
    "test_x = np.load('test_x.npy')\n",
    "test_label = np.load('test_label.npy')"
   ]
  },
  {
   "cell_type": "code",
   "execution_count": 21,
   "metadata": {},
   "outputs": [],
   "source": [
    "new_model2 = keras.Model(inputs=new_model.input, outputs=new_model.get_layer('flatten').output)\n",
    "featureVector = new_model2.predict(train_x)"
   ]
  },
  {
   "cell_type": "code",
   "execution_count": 22,
   "metadata": {},
   "outputs": [],
   "source": [
    "featureVector2 = new_model2.predict(test_x)\n"
   ]
  },
  {
   "cell_type": "code",
   "execution_count": 23,
   "metadata": {},
   "outputs": [
    {
     "name": "stdout",
     "output_type": "stream",
     "text": [
      "(1587, 64)\n"
     ]
    }
   ],
   "source": [
    "print(featureVector.shape)"
   ]
  },
  {
   "cell_type": "code",
   "execution_count": 24,
   "metadata": {},
   "outputs": [],
   "source": [
    "from sklearn.ensemble import RandomForestClassifier"
   ]
  },
  {
   "cell_type": "code",
   "execution_count": 25,
   "metadata": {},
   "outputs": [
    {
     "data": {
      "text/plain": [
       "RandomForestClassifier()"
      ]
     },
     "execution_count": 25,
     "metadata": {},
     "output_type": "execute_result"
    }
   ],
   "source": [
    "clf=RandomForestClassifier(n_estimators=100)\n",
    "\n",
    "clf.fit(featureVector,train_label)\n",
    "\n"
   ]
  },
  {
   "cell_type": "code",
   "execution_count": 26,
   "metadata": {},
   "outputs": [
    {
     "data": {
      "text/plain": [
       "(497, 128, 128, 3)"
      ]
     },
     "execution_count": 26,
     "metadata": {},
     "output_type": "execute_result"
    }
   ],
   "source": [
    "test_x.shape"
   ]
  },
  {
   "cell_type": "code",
   "execution_count": 27,
   "metadata": {},
   "outputs": [],
   "source": [
    "y_pred=clf.predict(featureVector2)"
   ]
  },
  {
   "cell_type": "code",
   "execution_count": 28,
   "metadata": {},
   "outputs": [
    {
     "data": {
      "text/plain": [
       "(1587, 64)"
      ]
     },
     "execution_count": 28,
     "metadata": {},
     "output_type": "execute_result"
    }
   ],
   "source": [
    "featureVector.shape"
   ]
  },
  {
   "cell_type": "code",
   "execution_count": 29,
   "metadata": {},
   "outputs": [
    {
     "name": "stdout",
     "output_type": "stream",
     "text": [
      "Accuracy: 0.8631790744466801\n"
     ]
    }
   ],
   "source": [
    "from sklearn import metrics\n",
    "print(\"Accuracy:\",metrics.accuracy_score(test_label, y_pred))"
   ]
  },
  {
   "cell_type": "code",
   "execution_count": 30,
   "metadata": {},
   "outputs": [],
   "source": [
    "from sklearn.tree import DecisionTreeClassifier"
   ]
  },
  {
   "cell_type": "code",
   "execution_count": 31,
   "metadata": {},
   "outputs": [],
   "source": [
    "dt = DecisionTreeClassifier(random_state=0)"
   ]
  },
  {
   "cell_type": "markdown",
   "metadata": {
    "id": "v2tUu9UW4S_S"
   },
   "source": [
    "# **Testes**"
   ]
  },
  {
   "cell_type": "code",
   "execution_count": 32,
   "metadata": {
    "id": "-02BWWgF4V9h"
   },
   "outputs": [
    {
     "data": {
      "image/png": "[encoded data removed]",
      "text/plain": [
       "<Figure size 432x288 with 1 Axes>"
      ]
     },
     "metadata": {
      "needs_background": "light"
     },
     "output_type": "display_data"
    },
    {
     "data": {
      "image/png": "[encoded data removed]",
      "text/plain": [
       "<Figure size 432x288 with 1 Axes>"
      ]
     },
     "metadata": {
      "needs_background": "light"
     },
     "output_type": "display_data"
    }
   ],
   "source": [
    "import matplotlib.pyplot as plt\n",
    "\n",
    "accuracy = model_trained.history['acc']\n",
    "val_accuracy = model_trained.history['val_acc']\n",
    "loss = model_trained.history['loss']\n",
    "val_loss = model_trained.history['val_loss']\n",
    "epochs = range(len(accuracy))\n",
    "plt.plot(epochs, accuracy, 'b', label='Training accuracy')\n",
    "plt.plot(epochs, val_accuracy, 'g', label='Validation accuracy')\n",
    "plt.title('Training and validation accuracy')\n",
    "plt.legend()\n",
    "plt.figure()\n",
    "plt.plot(epochs, loss, 'b', label='Training loss')\n",
    "plt.plot(epochs, val_loss, 'g', label='Validation loss')\n",
    "plt.title('Training and validation loss')\n",
    "plt.legend()\n",
    "plt.show()"
   ]
  },
  {
   "cell_type": "code",
   "execution_count": 33,
   "metadata": {
    "id": "On7_hNmrOysp"
   },
   "outputs": [
    {
     "name": "stdout",
     "output_type": "stream",
     "text": [
      "16/16 [==============================] - 2s 103ms/step - loss: 64.5261 - acc: 0.4950\n",
      "Test loss: 64.52608489990234\n",
      "Test accuracy: 0.49496981501579285\n"
     ]
    }
   ],
   "source": [
    "#avalia a fase de teste\n",
    "\n",
    "model_loss, model_accuracy = new_model.evaluate(test_x, test_label, verbose=1)\n",
    "\n",
    "#mostra o resultado\n",
    "print('Test loss:', model_loss)\n",
    "print('Test accuracy:', model_accuracy)"
   ]
  },
  {
   "cell_type": "code",
   "execution_count": 34,
   "metadata": {
    "id": "uGYRlhnq8wsF"
   },
   "outputs": [],
   "source": [
    "#faz a predição das imagens\n",
    "\n",
    "from tensorflow.keras.utils import to_categorical\n",
    "\n",
    "pred = new_model.predict(test_x, verbose=0)\n",
    "\n",
    "pred_probs = np.argmax(pred,axis=1)"
   ]
  },
  {
   "cell_type": "code",
   "execution_count": 35,
   "metadata": {
    "id": "Vt4jZ2jB8ygE"
   },
   "outputs": [],
   "source": [
    "from sklearn.metrics import confusion_matrix\n",
    "from sklearn.metrics import classification_report\n",
    "from sklearn.metrics import accuracy_score\n",
    "from sklearn.metrics import f1_score"
   ]
  },
  {
   "cell_type": "code",
   "execution_count": 36,
   "metadata": {
    "id": "9gx5yvuU84UC"
   },
   "outputs": [],
   "source": [
    "cm = confusion_matrix(test_label, pred_probs)"
   ]
  },
  {
   "cell_type": "code",
   "execution_count": 37,
   "metadata": {
    "id": "NUrE8yfU86OL"
   },
   "outputs": [
    {
     "name": "stdout",
     "output_type": "stream",
     "text": [
      "F1 Score: 0.32775928789425657\n",
      "Sensitivity: [0. 1.]\n",
      "Specificity: [1. 0.]\n",
      "Precision:   [       nan 0.49496982]\n",
      "Accuracy:    [0.49496982 0.49496982]\n"
     ]
    }
   ],
   "source": [
    "#gera os valores de falso positivo, falso negativo, verdadeiro positivo e verdadeiro negativo\n",
    "fp = cm.sum(axis=0) - np.diag(cm)  \n",
    "fn = cm.sum(axis=1) - np.diag(cm)\n",
    "tp = np.diag(cm)\n",
    "tn = cm.sum() - (fp + fn + tp)\n",
    "\n",
    "f1score = f1_score(test_label, pred_probs, average='weighted')\n",
    "sensitivity = tp / (tp + fn)\n",
    "specificity = tn / (tn + fp)\n",
    "accuracy    = (tp + tn) / (tp + tn + fp + fn)\n",
    "precision   = tp / (tp + fp)\n",
    "\n",
    "\n",
    "print(\"F1 Score:\", f1score)\n",
    "print(\"Sensitivity:\", sensitivity)\n",
    "print(\"Specificity:\", specificity)\n",
    "print(\"Precision:  \", precision)\n",
    "print(\"Accuracy:   \", accuracy)"
   ]
  },
  {
   "cell_type": "code",
   "execution_count": null,
   "metadata": {},
   "outputs": [],
   "source": []
  }
 ],
 "metadata": {
  "colab": {
   "collapsed_sections": [],
   "name": "covid_alex_holdout_cropping_tgo.ipynb",
   "provenance": []
  },
  "kernelspec": {
   "display_name": "tf15",
   "language": "python",
   "name": "tf15"
  },
  "language_info": {
   "codemirror_mode": {
    "name": "ipython",
    "version": 3
   },
   "file_extension": ".py",
   "mimetype": "text/x-python",
   "name": "python",
   "nbconvert_exporter": "python",
   "pygments_lexer": "ipython3",
   "version": "3.6.13"
  }
 },
 "nbformat": 4,
 "nbformat_minor": 1
}
