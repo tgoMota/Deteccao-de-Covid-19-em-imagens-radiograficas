{
 "cells": [
  {
   "cell_type": "code",
   "execution_count": 1,
   "metadata": {
    "id": "on-xhn6xYqDo"
   },
   "outputs": [],
   "source": [
    "import tensorflow as tf\n",
    "from tensorflow import keras\n",
    "import matplotlib.pyplot as plt\n",
    "import os\n",
    "import time"
   ]
  },
  {
   "cell_type": "code",
   "execution_count": 2,
   "metadata": {
    "id": "Zq5nydmlidrt"
   },
   "outputs": [],
   "source": [
    "import torchxrayvision as xrv\n",
    "import cv2\n",
    "import os\n",
    "from tqdm import tqdm\n",
    "import matplotlib.pyplot as plt\n",
    "import numpy as np\n",
    "import glob\n",
    "from tensorflow.keras.preprocessing.image import ImageDataGenerator\n",
    "from tensorflow.keras.applications import *\n",
    "from tensorflow.keras.layers import *\n",
    "from tensorflow.keras.models import *\n",
    "from tensorflow.keras.optimizers import Adam\n",
    "from tensorflow.keras.utils import to_categorical\n",
    "from sklearn.preprocessing import LabelEncoder\n",
    "from sklearn.model_selection import train_test_split\n",
    "from sklearn.metrics import *\n",
    "from tensorflow.keras.callbacks import *\n",
    "from tensorflow.keras.utils import to_categorical"
   ]
  },
  {
   "cell_type": "code",
   "execution_count": 3,
   "metadata": {},
   "outputs": [],
   "source": [
    "new_img_height = 128\n",
    "new_img_width = 128\n",
    "channels = 3"
   ]
  },
  {
   "cell_type": "markdown",
   "metadata": {
    "id": "yfeZvMIEDOwS"
   },
   "source": [
    "# **AlexNet**"
   ]
  },
  {
   "cell_type": "code",
   "execution_count": 4,
   "metadata": {
    "id": "-D_EkK-1D2kw"
   },
   "outputs": [],
   "source": [
    "CLASS_NAMES= ['No Finding', 'COVID-19']"
   ]
  },
  {
   "cell_type": "code",
   "execution_count": 5,
   "metadata": {
    "id": "98Cf8ZeSEbCU"
   },
   "outputs": [],
   "source": [
    "from sklearn.model_selection import train_test_split"
   ]
  },
  {
   "cell_type": "code",
   "execution_count": 6,
   "metadata": {},
   "outputs": [],
   "source": [
    "train_x = np.load('train_x.npy')\n",
    "train_label = np.load('train_label.npy')\n",
    "test_x = np.load('test_x.npy')\n",
    "test_label = np.load('test_label.npy')\n",
    "validation_x = np.load('validation_x.npy')\n",
    "validation_label = np.load('validation_label.npy')"
   ]
  },
  {
   "cell_type": "code",
   "execution_count": 7,
   "metadata": {
    "id": "BiIjdq89J1uJ"
   },
   "outputs": [],
   "source": [
    "from tensorflow import keras\n",
    "from tensorflow.keras.models import Sequential\n",
    "from tensorflow.keras.layers import Dense, Activation, Dropout, Flatten, Conv2D, MaxPooling2D\n",
    "from tensorflow.keras.regularizers import l2\n",
    "from tensorflow.keras.callbacks import EarlyStopping"
   ]
  },
  {
   "cell_type": "code",
   "execution_count": 8,
   "metadata": {
    "colab": {
     "base_uri": "https://localhost:8080/"
    },
    "id": "_b34E1jltAPD",
    "outputId": "f0e51d31-16c9-4c4d-d2ce-a4e94619f92d"
   },
   "outputs": [
    {
     "data": {
      "text/plain": [
       "dtype('float16')"
      ]
     },
     "execution_count": 8,
     "metadata": {},
     "output_type": "execute_result"
    }
   ],
   "source": [
    "train_label.dtype"
   ]
  },
  {
   "cell_type": "code",
   "execution_count": 9,
   "metadata": {
    "colab": {
     "base_uri": "https://localhost:8080/"
    },
    "id": "j0vHxhMjLyhJ",
    "outputId": "e5ec2803-8f76-4719-e279-27c52eb8d72d"
   },
   "outputs": [],
   "source": [
    "from tensorflow.keras import layers\n",
    "from tensorflow.keras.layers import Input, Add, Dense, Activation, ZeroPadding2D, BatchNormalization, Flatten, Conv2D, AveragePooling2D, MaxPooling2D, GlobalMaxPooling2D\n",
    "from tensorflow.keras.models import Model, load_model\n",
    "from tensorflow.keras.preprocessing import image\n",
    "\n",
    "from IPython.display import SVG\n",
    "import scipy.misc"
   ]
  },
  {
   "cell_type": "code",
   "execution_count": 10,
   "metadata": {},
   "outputs": [],
   "source": [
    "import efficientnet.tfkeras as efc"
   ]
  },
  {
   "cell_type": "code",
   "execution_count": 11,
   "metadata": {},
   "outputs": [],
   "source": [
    "from tensorflow.keras.applications import EfficientNetB0\n",
    "from tensorflow.keras.applications import EfficientNetB1\n",
    "from tensorflow.keras.applications import EfficientNetB2\n",
    "from tensorflow.keras.applications import EfficientNetB3\n",
    "from tensorflow.keras.applications import EfficientNetB4\n",
    "from tensorflow.keras.applications import EfficientNetB5\n",
    "from tensorflow.keras.applications import EfficientNetB6\n",
    "from tensorflow.keras.applications import EfficientNetB7\n",
    "from tensorflow.keras.applications import *"
   ]
  },
  {
   "cell_type": "code",
   "execution_count": 12,
   "metadata": {},
   "outputs": [],
   "source": [
    "import tensorflow.keras.backend as K"
   ]
  },
  {
   "cell_type": "code",
   "execution_count": 13,
   "metadata": {},
   "outputs": [],
   "source": [
    "model = keras.models.Sequential([\n",
    "    keras.layers.Conv2D(filters=96, kernel_size=(11,11), strides=(4,4), activation='relu', input_shape=(128,128,3)),\n",
    "    keras.layers.BatchNormalization(),\n",
    "    keras.layers.MaxPool2D(pool_size=(3,3), strides=(2,2)),\n",
    "    keras.layers.Conv2D(filters=256, kernel_size=(5,5), strides=(1,1), activation='relu', padding=\"same\"),\n",
    "    keras.layers.BatchNormalization(),\n",
    "    keras.layers.MaxPool2D(pool_size=(3,3), strides=(2,2)),\n",
    "    keras.layers.Conv2D(filters=384, kernel_size=(3,3), strides=(1,1), activation='relu', padding=\"same\"),\n",
    "    keras.layers.BatchNormalization(),\n",
    "    keras.layers.Conv2D(filters=384, kernel_size=(3,3), strides=(1,1), activation='relu', padding=\"same\"),\n",
    "    keras.layers.BatchNormalization(),\n",
    "    keras.layers.Conv2D(filters=256, kernel_size=(3,3), strides=(1,1), activation='relu', padding=\"same\"),\n",
    "    keras.layers.BatchNormalization(),\n",
    "    keras.layers.MaxPool2D(pool_size=(3,3), strides=(2,2)),\n",
    "    keras.layers.Flatten(),\n",
    "    keras.layers.Dense(4096, activation='relu'),\n",
    "    keras.layers.Dropout(0.5),\n",
    "    keras.layers.Dense(4096, activation='relu'),\n",
    "    keras.layers.Dropout(0.5),\n",
    "    keras.layers.Dense(2, activation='softmax')\n",
    "])"
   ]
  },
  {
   "cell_type": "code",
   "execution_count": 14,
   "metadata": {},
   "outputs": [],
   "source": [
    "from tensorflow.keras import models\n",
    "from tensorflow.keras import layers\n",
    "new_model = model"
   ]
  },
  {
   "cell_type": "code",
   "execution_count": 17,
   "metadata": {},
   "outputs": [],
   "source": [
    "adam = tf.keras.optimizers.Adam(lr=0.001)"
   ]
  },
  {
   "cell_type": "code",
   "execution_count": 15,
   "metadata": {},
   "outputs": [
    {
     "name": "stdout",
     "output_type": "stream",
     "text": [
      "Model: \"sequential\"\n",
      "_________________________________________________________________\n",
      "Layer (type)                 Output Shape              Param #   \n",
      "=================================================================\n",
      "conv2d (Conv2D)              (None, 30, 30, 96)        34944     \n",
      "_________________________________________________________________\n",
      "batch_normalization (BatchNo (None, 30, 30, 96)        384       \n",
      "_________________________________________________________________\n",
      "max_pooling2d (MaxPooling2D) (None, 14, 14, 96)        0         \n",
      "_________________________________________________________________\n",
      "conv2d_1 (Conv2D)            (None, 14, 14, 256)       614656    \n",
      "_________________________________________________________________\n",
      "batch_normalization_1 (Batch (None, 14, 14, 256)       1024      \n",
      "_________________________________________________________________\n",
      "max_pooling2d_1 (MaxPooling2 (None, 6, 6, 256)         0         \n",
      "_________________________________________________________________\n",
      "conv2d_2 (Conv2D)            (None, 6, 6, 384)         885120    \n",
      "_________________________________________________________________\n",
      "batch_normalization_2 (Batch (None, 6, 6, 384)         1536      \n",
      "_________________________________________________________________\n",
      "conv2d_3 (Conv2D)            (None, 6, 6, 384)         1327488   \n",
      "_________________________________________________________________\n",
      "batch_normalization_3 (Batch (None, 6, 6, 384)         1536      \n",
      "_________________________________________________________________\n",
      "conv2d_4 (Conv2D)            (None, 6, 6, 256)         884992    \n",
      "_________________________________________________________________\n",
      "batch_normalization_4 (Batch (None, 6, 6, 256)         1024      \n",
      "_________________________________________________________________\n",
      "max_pooling2d_2 (MaxPooling2 (None, 2, 2, 256)         0         \n",
      "_________________________________________________________________\n",
      "flatten (Flatten)            (None, 1024)              0         \n",
      "_________________________________________________________________\n",
      "dense (Dense)                (None, 4096)              4198400   \n",
      "_________________________________________________________________\n",
      "dropout (Dropout)            (None, 4096)              0         \n",
      "_________________________________________________________________\n",
      "dense_1 (Dense)              (None, 4096)              16781312  \n",
      "_________________________________________________________________\n",
      "dropout_1 (Dropout)          (None, 4096)              0         \n",
      "_________________________________________________________________\n",
      "dense_2 (Dense)              (None, 2)                 8194      \n",
      "=================================================================\n",
      "Total params: 24,740,610\n",
      "Trainable params: 24,737,858\n",
      "Non-trainable params: 2,752\n",
      "_________________________________________________________________\n"
     ]
    }
   ],
   "source": [
    "new_model.summary()"
   ]
  },
  {
   "cell_type": "code",
   "execution_count": null,
   "metadata": {},
   "outputs": [
    {
     "name": "stdout",
     "output_type": "stream",
     "text": [
      "Epoch 1/50\n",
      "50/50 [==============================] - 3s 69ms/step - loss: 2.5788 - acc: 0.6207 - val_loss: 1.3349 - val_acc: 0.4861\n",
      "Epoch 2/50\n",
      "50/50 [==============================] - 3s 53ms/step - loss: 0.5338 - acc: 0.7763 - val_loss: 0.7806 - val_acc: 0.5139\n",
      "Epoch 3/50\n",
      "50/50 [==============================] - 3s 53ms/step - loss: 0.4604 - acc: 0.8078 - val_loss: 0.8772 - val_acc: 0.4861\n",
      "Epoch 4/50\n",
      "50/50 [==============================] - 3s 54ms/step - loss: 0.4999 - acc: 0.7914 - val_loss: 0.7446 - val_acc: 0.4861\n",
      "Epoch 5/50\n",
      "50/50 [==============================] - 3s 54ms/step - loss: 0.3760 - acc: 0.8399 - val_loss: 1.6968 - val_acc: 0.4861\n",
      "Epoch 6/50\n",
      "50/50 [==============================] - 3s 54ms/step - loss: 0.3927 - acc: 0.8406 - val_loss: 1.6833 - val_acc: 0.4861\n",
      "Epoch 7/50\n",
      "50/50 [==============================] - 3s 54ms/step - loss: 0.3166 - acc: 0.8859 - val_loss: 5.8334 - val_acc: 0.4861\n",
      "Epoch 8/50\n",
      "50/50 [==============================] - 3s 54ms/step - loss: 0.3597 - acc: 0.8601 - val_loss: 3.1202 - val_acc: 0.4861\n",
      "Epoch 9/50\n",
      "50/50 [==============================] - 3s 54ms/step - loss: 0.2626 - acc: 0.8986 - val_loss: 1.4201 - val_acc: 0.4861\n",
      "Epoch 10/50\n",
      "50/50 [==============================] - 3s 54ms/step - loss: 0.2268 - acc: 0.9130 - val_loss: 2.4876 - val_acc: 0.4861\n",
      "Epoch 11/50\n",
      "50/50 [==============================] - 3s 54ms/step - loss: 0.2244 - acc: 0.9137 - val_loss: 3.4516 - val_acc: 0.4861\n",
      "Epoch 12/50\n",
      "50/50 [==============================] - 3s 54ms/step - loss: 0.1932 - acc: 0.9250 - val_loss: 12.1661 - val_acc: 0.4861\n",
      "Epoch 13/50\n",
      "50/50 [==============================] - 3s 54ms/step - loss: 0.1631 - acc: 0.9376 - val_loss: 19.5627 - val_acc: 0.4861\n",
      "Epoch 14/50\n",
      "50/50 [==============================] - 3s 54ms/step - loss: 0.2572 - acc: 0.8910 - val_loss: 3.9110 - val_acc: 0.5315\n",
      "Epoch 15/50\n",
      "50/50 [==============================] - 3s 54ms/step - loss: 0.1962 - acc: 0.9307 - val_loss: 2.3566 - val_acc: 0.6196\n",
      "Epoch 16/50\n",
      "50/50 [==============================] - 3s 53ms/step - loss: 0.1875 - acc: 0.9307 - val_loss: 0.6277 - val_acc: 0.8438\n",
      "Epoch 17/50\n",
      "50/50 [==============================] - 3s 53ms/step - loss: 0.1234 - acc: 0.9534 - val_loss: 60.5592 - val_acc: 0.4861\n",
      "Epoch 18/50\n",
      "50/50 [==============================] - 3s 53ms/step - loss: 0.1291 - acc: 0.9527 - val_loss: 7.0235 - val_acc: 0.4987\n",
      "Epoch 19/50\n",
      "50/50 [==============================] - 3s 53ms/step - loss: 0.1506 - acc: 0.9496 - val_loss: 12.4951 - val_acc: 0.5290\n",
      "Epoch 20/50\n",
      "50/50 [==============================] - 3s 54ms/step - loss: 0.1504 - acc: 0.9546 - val_loss: 0.5653 - val_acc: 0.8766\n",
      "Epoch 21/50\n",
      "50/50 [==============================] - 3s 54ms/step - loss: 0.1109 - acc: 0.9653 - val_loss: 11.3896 - val_acc: 0.4861\n",
      "Epoch 22/50\n",
      "50/50 [==============================] - 3s 54ms/step - loss: 0.0974 - acc: 0.9691 - val_loss: 49.1483 - val_acc: 0.4484\n",
      "Epoch 23/50\n",
      "50/50 [==============================] - 3s 53ms/step - loss: 0.1704 - acc: 0.9483 - val_loss: 11.9624 - val_acc: 0.4861\n",
      "Epoch 24/50\n",
      "50/50 [==============================] - 3s 54ms/step - loss: 0.1209 - acc: 0.9641 - val_loss: 7.7467 - val_acc: 0.4861\n",
      "Epoch 25/50\n",
      "50/50 [==============================] - 3s 54ms/step - loss: 0.0874 - acc: 0.9716 - val_loss: 0.8516 - val_acc: 0.8363\n",
      "Epoch 26/50\n",
      "50/50 [==============================] - 3s 54ms/step - loss: 0.1225 - acc: 0.9635 - val_loss: 29.7142 - val_acc: 0.4861\n",
      "Epoch 27/50\n",
      "50/50 [==============================] - 3s 55ms/step - loss: 0.1109 - acc: 0.9716 - val_loss: 0.6559 - val_acc: 0.8212\n",
      "Epoch 28/50\n",
      "50/50 [==============================] - 3s 54ms/step - loss: 0.0622 - acc: 0.9761 - val_loss: 0.7756 - val_acc: 0.9043\n",
      "Epoch 29/50\n",
      "50/50 [==============================] - 3s 53ms/step - loss: 0.0483 - acc: 0.9817 - val_loss: 1.8095 - val_acc: 0.7708\n",
      "Epoch 30/50\n",
      "50/50 [==============================] - 3s 55ms/step - loss: 0.0648 - acc: 0.9855 - val_loss: 3.0551 - val_acc: 0.6599\n",
      "Epoch 31/50\n",
      "50/50 [==============================] - 3s 54ms/step - loss: 0.0429 - acc: 0.9849 - val_loss: 2.4337 - val_acc: 0.7280\n",
      "Epoch 32/50\n",
      "50/50 [==============================] - 3s 53ms/step - loss: 0.0882 - acc: 0.9704 - val_loss: 25.4160 - val_acc: 0.4861\n",
      "Epoch 33/50\n",
      "50/50 [==============================] - 3s 54ms/step - loss: 0.0433 - acc: 0.9855 - val_loss: 2.2017 - val_acc: 0.7733\n",
      "Epoch 34/50\n",
      "50/50 [==============================] - 3s 55ms/step - loss: 0.0718 - acc: 0.9779 - val_loss: 6.9050 - val_acc: 0.6322\n",
      "Epoch 35/50\n",
      "50/50 [==============================] - 3s 55ms/step - loss: 0.0451 - acc: 0.9811 - val_loss: 5.7732 - val_acc: 0.6121\n",
      "Epoch 36/50\n",
      "50/50 [==============================] - 3s 53ms/step - loss: 0.0650 - acc: 0.9786 - val_loss: 5.2312 - val_acc: 0.5743\n",
      "Epoch 37/50\n",
      "50/50 [==============================] - 3s 53ms/step - loss: 0.0082 - acc: 0.9962 - val_loss: 21.3134 - val_acc: 0.4962\n",
      "Epoch 38/50\n",
      "50/50 [==============================] - 3s 53ms/step - loss: 0.0199 - acc: 0.9950 - val_loss: 1.8277 - val_acc: 0.8161\n",
      "Epoch 39/50\n",
      "50/50 [==============================] - 3s 53ms/step - loss: 0.0368 - acc: 0.9861 - val_loss: 41.3040 - val_acc: 0.4861\n",
      "Epoch 40/50\n",
      "50/50 [==============================] - 3s 53ms/step - loss: 0.0270 - acc: 0.9918 - val_loss: 7.6602 - val_acc: 0.5693\n",
      "Epoch 41/50\n",
      "50/50 [==============================] - 3s 54ms/step - loss: 0.0448 - acc: 0.9893 - val_loss: 24.7274 - val_acc: 0.4836\n",
      "Epoch 42/50\n",
      "50/50 [==============================] - 3s 54ms/step - loss: 0.1490 - acc: 0.9660 - val_loss: 0.5681 - val_acc: 0.8690\n",
      "Epoch 43/50\n",
      "50/50 [==============================] - 3s 54ms/step - loss: 0.0949 - acc: 0.9698 - val_loss: 8.8793 - val_acc: 0.5189\n",
      "Epoch 44/50\n",
      "50/50 [==============================] - 3s 56ms/step - loss: 0.0523 - acc: 0.9836 - val_loss: 0.9735 - val_acc: 0.8665\n",
      "Epoch 45/50\n",
      "50/50 [==============================] - 3s 54ms/step - loss: 0.0207 - acc: 0.9912 - val_loss: 7.1617 - val_acc: 0.5491\n",
      "Epoch 46/50\n",
      "50/50 [==============================] - 3s 54ms/step - loss: 0.0443 - acc: 0.9918 - val_loss: 3.2820 - val_acc: 0.6725\n",
      "Epoch 47/50\n",
      "50/50 [==============================] - 3s 54ms/step - loss: 0.0341 - acc: 0.9893 - val_loss: 57.2867 - val_acc: 0.4887\n",
      "Epoch 48/50\n",
      "50/50 [==============================] - 3s 53ms/step - loss: 0.0571 - acc: 0.9912 - val_loss: 3.5372 - val_acc: 0.7607\n",
      "Epoch 49/50\n",
      "50/50 [==============================] - 3s 53ms/step - loss: 0.0731 - acc: 0.9792 - val_loss: 7.4900 - val_acc: 0.6272\n",
      "Epoch 50/50\n",
      "43/50 [========================>.....] - ETA: 0s - loss: 0.0898 - acc: 0.9811"
     ]
    }
   ],
   "source": [
    "epochs = 50\n",
    "num_classes = 2\n",
    "\n",
    "#compila e treina o modelo com os dados carregados\n",
    "new_model.compile(loss='sparse_categorical_crossentropy', metrics=['acc'], optimizer=adam)\n",
    "model_trained = new_model.fit(train_x, train_label,epochs=epochs,verbose=1,validation_data=(validation_x, validation_label),shuffle=False)"
   ]
  },
  {
   "cell_type": "code",
   "execution_count": null,
   "metadata": {},
   "outputs": [],
   "source": [
    "model.summary()"
   ]
  },
  {
   "cell_type": "markdown",
   "metadata": {},
   "source": [
    "**Random Forest**"
   ]
  },
  {
   "cell_type": "code",
   "execution_count": null,
   "metadata": {},
   "outputs": [],
   "source": [
    "from sklearn import metrics\n",
    "from sklearn.ensemble import RandomForestClassifier\n",
    "from sklearn import tree\n",
    "import numpy as np\n",
    "import seaborn as sns\n",
    "import matplotlib.pylab as plt"
   ]
  },
  {
   "cell_type": "code",
   "execution_count": null,
   "metadata": {},
   "outputs": [],
   "source": [
    "test_x = np.load('test_x.npy')\n",
    "test_label = np.load('test_label.npy')"
   ]
  },
  {
   "cell_type": "code",
   "execution_count": null,
   "metadata": {},
   "outputs": [],
   "source": [
    "new_model2 = keras.Model(inputs=new_model.input, outputs=new_model.get_layer('flatten').output)\n",
    "featureVector = new_model2.predict(train_x)"
   ]
  },
  {
   "cell_type": "code",
   "execution_count": null,
   "metadata": {},
   "outputs": [],
   "source": [
    "featureVector2 = new_model2.predict(test_x)\n"
   ]
  },
  {
   "cell_type": "code",
   "execution_count": null,
   "metadata": {},
   "outputs": [],
   "source": [
    "print(featureVector.shape)"
   ]
  },
  {
   "cell_type": "code",
   "execution_count": null,
   "metadata": {},
   "outputs": [],
   "source": [
    "from sklearn.ensemble import RandomForestClassifier"
   ]
  },
  {
   "cell_type": "code",
   "execution_count": null,
   "metadata": {},
   "outputs": [],
   "source": [
    "clf=RandomForestClassifier(n_estimators=100)\n",
    "\n",
    "clf.fit(featureVector,train_label)\n",
    "\n"
   ]
  },
  {
   "cell_type": "code",
   "execution_count": null,
   "metadata": {},
   "outputs": [],
   "source": [
    "test_x.shape"
   ]
  },
  {
   "cell_type": "code",
   "execution_count": null,
   "metadata": {},
   "outputs": [],
   "source": [
    "y_pred=clf.predict(featureVector2)"
   ]
  },
  {
   "cell_type": "code",
   "execution_count": null,
   "metadata": {},
   "outputs": [],
   "source": [
    "featureVector.shape"
   ]
  },
  {
   "cell_type": "code",
   "execution_count": null,
   "metadata": {},
   "outputs": [],
   "source": [
    "from sklearn import metrics\n",
    "print(\"Accuracy:\",metrics.accuracy_score(test_label, y_pred))"
   ]
  },
  {
   "cell_type": "code",
   "execution_count": null,
   "metadata": {},
   "outputs": [],
   "source": [
    "from sklearn.tree import DecisionTreeClassifier"
   ]
  },
  {
   "cell_type": "code",
   "execution_count": null,
   "metadata": {},
   "outputs": [],
   "source": [
    "clf = DecisionTreeClassifier(random_state=0)"
   ]
  },
  {
   "cell_type": "markdown",
   "metadata": {
    "id": "v2tUu9UW4S_S"
   },
   "source": [
    "# **Testes**"
   ]
  },
  {
   "cell_type": "code",
   "execution_count": null,
   "metadata": {
    "id": "-02BWWgF4V9h"
   },
   "outputs": [],
   "source": [
    "import matplotlib.pyplot as plt\n",
    "\n",
    "accuracy = model_trained.history['acc']\n",
    "val_accuracy = model_trained.history['val_acc']\n",
    "loss = model_trained.history['loss']\n",
    "val_loss = model_trained.history['val_loss']\n",
    "epochs = range(len(accuracy))\n",
    "plt.plot(epochs, accuracy, 'b', label='Training accuracy')\n",
    "plt.plot(epochs, val_accuracy, 'g', label='Validation accuracy')\n",
    "plt.title('Training and validation accuracy')\n",
    "plt.legend()\n",
    "plt.figure()\n",
    "plt.plot(epochs, loss, 'b', label='Training loss')\n",
    "plt.plot(epochs, val_loss, 'g', label='Validation loss')\n",
    "plt.title('Training and validation loss')\n",
    "plt.legend()\n",
    "plt.show()"
   ]
  },
  {
   "cell_type": "code",
   "execution_count": null,
   "metadata": {
    "id": "On7_hNmrOysp"
   },
   "outputs": [],
   "source": [
    "#avalia a fase de teste\n",
    "\n",
    "model_loss, model_accuracy = new_model.evaluate(test_x, test_label, verbose=1)\n",
    "\n",
    "#mostra o resultado\n",
    "print('Test loss:', model_loss)\n",
    "print('Test accuracy:', model_accuracy)"
   ]
  },
  {
   "cell_type": "code",
   "execution_count": null,
   "metadata": {
    "id": "uGYRlhnq8wsF"
   },
   "outputs": [],
   "source": [
    "#faz a predição das imagens\n",
    "\n",
    "from tensorflow.keras.utils import to_categorical\n",
    "\n",
    "pred = new_model.predict(test_x, verbose=0)\n",
    "\n",
    "pred_probs = np.argmax(pred,axis=1)"
   ]
  },
  {
   "cell_type": "code",
   "execution_count": null,
   "metadata": {
    "id": "Vt4jZ2jB8ygE"
   },
   "outputs": [],
   "source": [
    "from sklearn.metrics import confusion_matrix\n",
    "from sklearn.metrics import classification_report\n",
    "from sklearn.metrics import accuracy_score\n",
    "from sklearn.metrics import f1_score"
   ]
  },
  {
   "cell_type": "code",
   "execution_count": null,
   "metadata": {
    "id": "9gx5yvuU84UC"
   },
   "outputs": [],
   "source": [
    "cm = confusion_matrix(test_label, pred_probs)"
   ]
  },
  {
   "cell_type": "code",
   "execution_count": null,
   "metadata": {
    "id": "NUrE8yfU86OL"
   },
   "outputs": [],
   "source": [
    "#gera os valores de falso positivo, falso negativo, verdadeiro positivo e verdadeiro negativo\n",
    "fp = cm.sum(axis=0) - np.diag(cm)  \n",
    "fn = cm.sum(axis=1) - np.diag(cm)\n",
    "tp = np.diag(cm)\n",
    "tn = cm.sum() - (fp + fn + tp)\n",
    "\n",
    "f1score = f1_score(test_label, pred_probs, average='weighted')\n",
    "sensitivity = tp / (tp + fn)\n",
    "specificity = tn / (tn + fp)\n",
    "accuracy    = (tp + tn) / (tp + tn + fp + fn)\n",
    "precision   = tp / (tp + fp)\n",
    "\n",
    "\n",
    "print(\"F1 Score:\", f1score)\n",
    "print(\"Sensitivity:\", sensitivity)\n",
    "print(\"Specificity:\", specificity)\n",
    "print(\"Precision:  \", precision)\n",
    "print(\"Accuracy:   \", accuracy)"
   ]
  },
  {
   "cell_type": "code",
   "execution_count": null,
   "metadata": {},
   "outputs": [],
   "source": []
  }
 ],
 "metadata": {
  "colab": {
   "collapsed_sections": [],
   "name": "covid_alex_holdout_cropping_tgo.ipynb",
   "provenance": []
  },
  "kernelspec": {
   "display_name": "tf15",
   "language": "python",
   "name": "tf15"
  },
  "language_info": {
   "codemirror_mode": {
    "name": "ipython",
    "version": 3
   },
   "file_extension": ".py",
   "mimetype": "text/x-python",
   "name": "python",
   "nbconvert_exporter": "python",
   "pygments_lexer": "ipython3",
   "version": "3.6.13"
  }
 },
 "nbformat": 4,
 "nbformat_minor": 1
}
