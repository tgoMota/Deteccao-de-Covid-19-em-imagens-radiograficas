{
 "cells": [
  {
   "cell_type": "code",
   "execution_count": 2,
   "metadata": {},
   "outputs": [],
   "source": [
    "import pandas as pd\n",
    "import random\n",
    "from sklearn.model_selection import train_test_split\n",
    "import os\n",
    "import cv2\n",
    "import numpy as np\n",
    "import tensorflow as tf\n",
    "import matplotlib.pyplot as plt\n",
    "import numpy as np"
   ]
  },
  {
   "cell_type": "code",
   "execution_count": 67,
   "metadata": {},
   "outputs": [],
   "source": [
    "def cutting_image(image, image_height, image_width, window_size, window_cut):\n",
    "    windows = []\n",
    "    for y in range(0, image_height, window_cut):\n",
    "        for x in range(0, image_width, window_cut):\n",
    "            window = image[y:y+window_size, x:x+window_size]\n",
    "            windows.append(window)\n",
    "    return windows"
   ]
  },
  {
   "cell_type": "code",
   "execution_count": 8,
   "metadata": {},
   "outputs": [],
   "source": [
    "import numpy as np\n",
    "from skimage.feature import greycomatrix, greycoprops\n",
    "from skimage import io, color, img_as_ubyte\n",
    "\n",
    "# GLCM properties\n",
    "def contrast_feature(matrix_coocurrence):\n",
    "\tcontrast = greycoprops(matrix_coocurrence, 'contrast')\n",
    "\treturn contrast\n",
    "\n",
    "def dissimilarity_feature(matrix_coocurrence):\n",
    "\tdissimilarity = greycoprops(matrix_coocurrence, 'dissimilarity')\t\n",
    "\treturn dissimilarity\n",
    "\n",
    "def homogeneity_feature(matrix_coocurrence):\n",
    "\thomogeneity = greycoprops(matrix_coocurrence, 'homogeneity')\n",
    "\treturn homogeneity\n",
    "\n",
    "def energy_feature(matrix_coocurrence):\n",
    "\tenergy = greycoprops(matrix_coocurrence, 'energy')\n",
    "\treturn energy\n",
    "\n",
    "def correlation_feature(matrix_coocurrence):\n",
    "\tcorrelation = greycoprops(matrix_coocurrence, 'correlation')\n",
    "\treturn correlation\n",
    "\n",
    "def asm_feature(matrix_coocurrence):\n",
    "\tasm = greycoprops(matrix_coocurrence, 'ASM')\n",
    "\treturn asm\n",
    "\n",
    "\n",
    "def destruct(vet):\n",
    "    new_vet = []\n",
    "    for x in vet:\n",
    "        new_vet.append(x)\n",
    "    return new_vet\n",
    "\n",
    "# print(contrast_feature(matrix_coocurrence))\n",
    "# print(dissimilarity_feature(matrix_coocurrence))\n",
    "# print(homogeneity_feature(matrix_coocurrence))\n",
    "# print(energy_feature(matrix_coocurrence))\n",
    "# print(correlation_feature(matrix_coocurrence))\n",
    "# print(asm_feature(matrix_coocurrence))"
   ]
  },
  {
   "cell_type": "code",
   "execution_count": 69,
   "metadata": {},
   "outputs": [],
   "source": [
    "\"\"\"Funcntion for loading images\"\"\"\n",
    "old_img_height = 128\n",
    "old_img_width = 128\n",
    "new_img_height = 32\n",
    "new_img_width = 32\n",
    "images = []\n",
    "def load_images_from_folder(folder):\n",
    "    for filename in os.listdir(folder):\n",
    "        img = cv2.imread(os.path.join(folder,filename))\n",
    "        #img = cv2.resize(img, (224, 224))\n",
    "        img = img/255.0\n",
    "        img = cv2.resize(img, (128, 128))\n",
    "        if img is not None:\n",
    "            gray = color.rgb2gray(img)\n",
    "            image = img_as_ubyte(gray)\n",
    "\n",
    "            bins = np.array([0, 16, 32, 48, 64, 80, 96, 112, 128, 144, 160, 176, 192, 208, 224, 240, 255]) #16-bit\n",
    "            inds = np.digitize(image, bins)\n",
    "\n",
    "            max_value = inds.max()+1\n",
    "            matrix_coocurrence = greycomatrix(inds, [1], [0, np.pi/4, np.pi/2, 3*np.pi/4], levels=max_value, normed=False, symmetric=False)\n",
    "            images.append(contrast_feature(matrix_coocurrence))\n",
    "            images.append(dissimilarity_feature(matrix_coocurrence))\n",
    "            images.append(homogeneity_feature(matrix_coocurrence))\n",
    "            images.append(energy_feature(matrix_coocurrence))\n",
    "            images.append(correlation_feature(matrix_coocurrence))\n",
    "            images.append(asm_feature(matrix_coocurrence))\n",
    "    return images"
   ]
  },
  {
   "cell_type": "code",
   "execution_count": 4,
   "metadata": {},
   "outputs": [],
   "source": [
    "images = []\n",
    "train_x = np.load('train_x.npy')\n",
    "train_label = np.load('train_label.npy')\n",
    "test_x = np.load('test_x.npy')\n",
    "test_label = np.load('test_label.npy')\n",
    "validation_x = np.load('validation_x.npy')\n",
    "validation_label = np.load('validation_label.npy')"
   ]
  },
  {
   "cell_type": "code",
   "execution_count": 5,
   "metadata": {},
   "outputs": [
    {
     "data": {
      "text/plain": [
       "(1587, 128, 128, 3)"
      ]
     },
     "execution_count": 5,
     "metadata": {},
     "output_type": "execute_result"
    }
   ],
   "source": [
    "train_x.shape"
   ]
  },
  {
   "cell_type": "code",
   "execution_count": 19,
   "metadata": {},
   "outputs": [],
   "source": [
    "images_glcm_train_X = []"
   ]
  },
  {
   "cell_type": "code",
   "execution_count": 20,
   "metadata": {},
   "outputs": [],
   "source": [
    "images = []"
   ]
  },
  {
   "cell_type": "code",
   "execution_count": 21,
   "metadata": {},
   "outputs": [],
   "source": [
    "for img in train_x:\n",
    "    gray = color.rgb2gray(img)\n",
    "    image = img_as_ubyte(gray)\n",
    "    bins = np.array([0, 16, 32, 48, 64, 80, 96, 112, 128, 144, 160, 176, 192, 208, 224, 240, 255]) #16-bit\n",
    "    inds = np.digitize(image, bins)\n",
    "    max_value = inds.max()+1\n",
    "    matrix_coocurrence = greycomatrix(inds, [1], [0, np.pi/4, np.pi/2, 3*np.pi/4], levels=max_value, normed=False, symmetric=False)\n",
    "    images_glcm_train_X.append(contrast_feature(matrix_coocurrence))\n",
    "    images_glcm_train_X.append(dissimilarity_feature(matrix_coocurrence))\n",
    "    images_glcm_train_X.append(homogeneity_feature(matrix_coocurrence))\n",
    "    images_glcm_train_X.append(energy_feature(matrix_coocurrence))\n",
    "    images_glcm_train_X.append(correlation_feature(matrix_coocurrence))\n",
    "    images_glcm_train_X.append(asm_feature(matrix_coocurrence))"
   ]
  },
  {
   "cell_type": "code",
   "execution_count": 22,
   "metadata": {},
   "outputs": [],
   "source": [
    "images_glcm_test_X = []\n",
    "for img in test_x:\n",
    "    gray = color.rgb2gray(img)\n",
    "    image = img_as_ubyte(gray)\n",
    "    bins = np.array([0, 16, 32, 48, 64, 80, 96, 112, 128, 144, 160, 176, 192, 208, 224, 240, 255]) #16-bit\n",
    "    inds = np.digitize(image, bins)\n",
    "    max_value = inds.max()+1\n",
    "    matrix_coocurrence = greycomatrix(inds, [1], [0, np.pi/4, np.pi/2, 3*np.pi/4], levels=max_value, normed=False, symmetric=False)\n",
    "    images_glcm_test_X.append(contrast_feature(matrix_coocurrence))\n",
    "    images_glcm_test_X.append(dissimilarity_feature(matrix_coocurrence))\n",
    "    images_glcm_test_X.append(homogeneity_feature(matrix_coocurrence))\n",
    "    images_glcm_test_X.append(energy_feature(matrix_coocurrence))\n",
    "    images_glcm_test_X.append(correlation_feature(matrix_coocurrence))\n",
    "    images_glcm_test_X.append(asm_feature(matrix_coocurrence))"
   ]
  },
  {
   "cell_type": "code",
   "execution_count": 23,
   "metadata": {},
   "outputs": [],
   "source": [
    "images_glcm_validation_X = []\n",
    "for img in validation_x:\n",
    "    gray = color.rgb2gray(img)\n",
    "    image = img_as_ubyte(gray)\n",
    "    bins = np.array([0, 16, 32, 48, 64, 80, 96, 112, 128, 144, 160, 176, 192, 208, 224, 240, 255]) #16-bit\n",
    "    inds = np.digitize(image, bins)\n",
    "    max_value = inds.max()+1\n",
    "    matrix_coocurrence = greycomatrix(inds, [1], [0, np.pi/4, np.pi/2, 3*np.pi/4], levels=max_value, normed=False, symmetric=False)\n",
    "    images_glcm_validation_X.append(contrast_feature(matrix_coocurrence))\n",
    "    images_glcm_validation_X.append(dissimilarity_feature(matrix_coocurrence))\n",
    "    images_glcm_validation_X.append(homogeneity_feature(matrix_coocurrence))\n",
    "    images_glcm_validation_X.append(energy_feature(matrix_coocurrence))\n",
    "    images_glcm_validation_X.append(correlation_feature(matrix_coocurrence))\n",
    "    images_glcm_validation_X.append(asm_feature(matrix_coocurrence))"
   ]
  },
  {
   "cell_type": "code",
   "execution_count": 24,
   "metadata": {},
   "outputs": [],
   "source": [
    "images_glcm_train_X = np.reshape(images_glcm_train_X,(len(images_glcm_train_X)//6,24)) "
   ]
  },
  {
   "cell_type": "code",
   "execution_count": 25,
   "metadata": {},
   "outputs": [],
   "source": [
    "images_glcm_test_X = np.reshape(images_glcm_test_X,(len(images_glcm_test_X)//6,24)) "
   ]
  },
  {
   "cell_type": "code",
   "execution_count": 26,
   "metadata": {},
   "outputs": [],
   "source": [
    "images_glcm_validation_X = np.reshape(images_glcm_validation_X,(len(images_glcm_validation_X)//6,24)) "
   ]
  },
  {
   "cell_type": "code",
   "execution_count": 30,
   "metadata": {},
   "outputs": [
    {
     "data": {
      "text/plain": [
       "((1587, 24), (497, 24), (397, 24))"
      ]
     },
     "execution_count": 30,
     "metadata": {},
     "output_type": "execute_result"
    }
   ],
   "source": [
    "images_glcm_train_X.shape, images_glcm_test_X.shape, images_glcm_validation_X.shape"
   ]
  },
  {
   "cell_type": "code",
   "execution_count": 29,
   "metadata": {},
   "outputs": [],
   "source": [
    "np.save('train_x_v2_glcm.npy', images_glcm_train_X)\n",
    "np.save('train_label_v2_glcm.npy', train_label)\n",
    "np.save('test_x_v2_glcm.npy', images_glcm_test_X)\n",
    "np.save('test_label_v2_glcm.npy', test_label)\n",
    "np.save('validation_x_v2_glcm.npy', images_glcm_validation_X)\n",
    "np.save('validation_label_v2_glcm.npy', validation_label)"
   ]
  }
 ],
 "metadata": {
  "colab": {
   "collapsed_sections": [],
   "name": "covid_alex_holdout_nocropping_tgo .ipynb",
   "provenance": []
  },
  "kernelspec": {
   "display_name": "tf15",
   "language": "python",
   "name": "tf15"
  },
  "language_info": {
   "codemirror_mode": {
    "name": "ipython",
    "version": 3
   },
   "file_extension": ".py",
   "mimetype": "text/x-python",
   "name": "python",
   "nbconvert_exporter": "python",
   "pygments_lexer": "ipython3",
   "version": "3.6.13"
  }
 },
 "nbformat": 4,
 "nbformat_minor": 1
}
