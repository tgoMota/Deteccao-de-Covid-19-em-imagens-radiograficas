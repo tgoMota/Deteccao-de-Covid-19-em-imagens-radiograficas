{
 "cells": [
  {
   "cell_type": "code",
   "execution_count": 15,
   "metadata": {
    "id": "on-xhn6xYqDo"
   },
   "outputs": [],
   "source": [
    "import tensorflow as tf\n",
    "from tensorflow import keras\n",
    "import matplotlib.pyplot as plt\n",
    "import os\n",
    "import time"
   ]
  },
  {
   "cell_type": "code",
   "execution_count": 16,
   "metadata": {
    "id": "Zq5nydmlidrt"
   },
   "outputs": [],
   "source": [
    "import torchxrayvision as xrv\n",
    "import cv2\n",
    "import os\n",
    "from tqdm import tqdm\n",
    "import matplotlib.pyplot as plt\n",
    "import numpy as np\n",
    "import glob\n",
    "from tensorflow.keras.preprocessing.image import ImageDataGenerator\n",
    "from tensorflow.keras.applications import *\n",
    "from tensorflow.keras.layers import *\n",
    "from tensorflow.keras.models import *\n",
    "from tensorflow.keras.optimizers import Adam\n",
    "from tensorflow.keras.utils import to_categorical\n",
    "from sklearn.preprocessing import LabelEncoder\n",
    "from sklearn.model_selection import train_test_split\n",
    "from sklearn.metrics import *\n",
    "from tensorflow.keras.callbacks import *\n",
    "from tensorflow.keras.utils import to_categorical"
   ]
  },
  {
   "cell_type": "code",
   "execution_count": 17,
   "metadata": {},
   "outputs": [],
   "source": [
    "new_img_height = 128\n",
    "new_img_width = 128\n",
    "channels = 3"
   ]
  },
  {
   "cell_type": "markdown",
   "metadata": {
    "id": "yfeZvMIEDOwS"
   },
   "source": [
    "# **MobileNetV2**"
   ]
  },
  {
   "cell_type": "code",
   "execution_count": 18,
   "metadata": {
    "id": "-D_EkK-1D2kw"
   },
   "outputs": [],
   "source": [
    "CLASS_NAMES= ['No Finding', 'COVID-19']"
   ]
  },
  {
   "cell_type": "code",
   "execution_count": 19,
   "metadata": {
    "id": "98Cf8ZeSEbCU"
   },
   "outputs": [],
   "source": [
    "from sklearn.model_selection import train_test_split"
   ]
  },
  {
   "cell_type": "code",
   "execution_count": 20,
   "metadata": {},
   "outputs": [],
   "source": [
    "train_x = np.load('train_x.npy')\n",
    "train_label = np.load('train_label.npy')\n",
    "test_x = np.load('test_x.npy')\n",
    "test_label = np.load('test_label.npy')\n",
    "validation_x = np.load('validation_x.npy')\n",
    "validation_label = np.load('validation_label.npy')"
   ]
  },
  {
   "cell_type": "code",
   "execution_count": 21,
   "metadata": {
    "id": "BiIjdq89J1uJ"
   },
   "outputs": [],
   "source": [
    "from tensorflow import keras\n",
    "from tensorflow.keras.models import Sequential\n",
    "from tensorflow.keras.layers import Dense, Activation, Dropout, Flatten, Conv2D, MaxPooling2D\n",
    "from tensorflow.keras.regularizers import l2\n",
    "from tensorflow.keras.callbacks import EarlyStopping"
   ]
  },
  {
   "cell_type": "code",
   "execution_count": 22,
   "metadata": {
    "colab": {
     "base_uri": "https://localhost:8080/"
    },
    "id": "_b34E1jltAPD",
    "outputId": "f0e51d31-16c9-4c4d-d2ce-a4e94619f92d"
   },
   "outputs": [
    {
     "data": {
      "text/plain": [
       "dtype('float16')"
      ]
     },
     "execution_count": 22,
     "metadata": {},
     "output_type": "execute_result"
    }
   ],
   "source": [
    "train_label.dtype"
   ]
  },
  {
   "cell_type": "code",
   "execution_count": 23,
   "metadata": {
    "colab": {
     "base_uri": "https://localhost:8080/"
    },
    "id": "j0vHxhMjLyhJ",
    "outputId": "e5ec2803-8f76-4719-e279-27c52eb8d72d"
   },
   "outputs": [],
   "source": [
    "from tensorflow.keras import layers\n",
    "from tensorflow.keras.layers import Input, Add, Dense, Activation, ZeroPadding2D, BatchNormalization, Flatten, Conv2D, AveragePooling2D, MaxPooling2D, GlobalMaxPooling2D\n",
    "from tensorflow.keras.models import Model, load_model\n",
    "from tensorflow.keras.preprocessing import image\n",
    "\n",
    "from IPython.display import SVG\n",
    "import scipy.misc"
   ]
  },
  {
   "cell_type": "code",
   "execution_count": 24,
   "metadata": {},
   "outputs": [],
   "source": [
    "import efficientnet.tfkeras as efc"
   ]
  },
  {
   "cell_type": "code",
   "execution_count": 25,
   "metadata": {},
   "outputs": [],
   "source": [
    "from tensorflow.keras.applications import EfficientNetB0\n",
    "from tensorflow.keras.applications import EfficientNetB1\n",
    "from tensorflow.keras.applications import EfficientNetB2\n",
    "from tensorflow.keras.applications import EfficientNetB3\n",
    "from tensorflow.keras.applications import EfficientNetB4\n",
    "from tensorflow.keras.applications import EfficientNetB5\n",
    "from tensorflow.keras.applications import EfficientNetB6\n",
    "from tensorflow.keras.applications import EfficientNetB7\n",
    "from tensorflow.keras.applications import *"
   ]
  },
  {
   "cell_type": "code",
   "execution_count": 26,
   "metadata": {},
   "outputs": [],
   "source": [
    "import tensorflow.keras.backend as K\n",
    "K.set_image_data_format('channels_last')\n",
    "K.set_learning_phase(1)"
   ]
  },
  {
   "cell_type": "code",
   "execution_count": 27,
   "metadata": {},
   "outputs": [],
   "source": [
    "model = tf.keras.applications.MobileNetV2(\n",
    "    include_top=False,\n",
    "    weights=\"imagenet\",\n",
    "    input_tensor=None,\n",
    "    input_shape=(128,128,3),\n",
    "    pooling=None,\n",
    "    classes=2,\n",
    "    classifier_activation=\"softmax\",\n",
    "#    **kwargs\n",
    ")"
   ]
  },
  {
   "cell_type": "code",
   "execution_count": 32,
   "metadata": {},
   "outputs": [],
   "source": [
    "from tensorflow.keras import models\n",
    "from tensorflow.keras import layers\n",
    "\n",
    "new_model = models.Sequential()\n",
    "new_model.add(model)\n",
    "new_model.add(tf.keras.layers.BatchNormalization())\n",
    "new_model.add(tf.keras.layers.Activation(\"relu\"))\n",
    "new_model.add(tf.keras.layers.MaxPooling2D(2, padding=\"same\"))\n",
    "# #2nd conv layer\n",
    "new_model.add(tf.keras.layers.Conv2D(16, 3, padding=\"same\"))\n",
    "new_model.add(tf.keras.layers.BatchNormalization())\n",
    "new_model.add(tf.keras.layers.Activation(\"relu\"))\n",
    "new_model.add(tf.keras.layers.MaxPooling2D(2, padding=\"same\"))\n",
    "#2rd conv layer\n",
    "new_model.add(tf.keras.layers.Conv2D(32, 3, padding=\"same\"))\n",
    "new_model.add(tf.keras.layers.BatchNormalization())\n",
    "new_model.add(tf.keras.layers.Activation(\"relu\"))\n",
    "new_model.add(tf.keras.layers.MaxPooling2D(2, padding=\"same\"))\n",
    "#3th conv layer\n",
    "new_model.add(tf.keras.layers.Conv2D(64, 3, padding=\"same\"))\n",
    "new_model.add(tf.keras.layers.BatchNormalization())\n",
    "new_model.add(tf.keras.layers.Activation(\"relu\"))\n",
    "new_model.add(tf.keras.layers.MaxPooling2D(2, padding=\"same\"))\n",
    "#Flatten Layer\n",
    "new_model.add(tf.keras.layers.Flatten())\n",
    "\n",
    "new_model.add(tf.keras.layers.Dense(4096, kernel_regularizer =tf.keras.regularizers.l2( l=0.01)))\n",
    "new_model.add(tf.keras.layers.BatchNormalization())\n",
    "new_model.add(tf.keras.layers.Activation(\"relu\"))\n",
    "new_model.add(tf.keras.layers.Dropout(0.2))\n",
    "#output Dense Layer\n",
    "new_model.add(tf.keras.layers.Dense(2))\n",
    "new_model.add(tf.keras.layers.Activation('softmax'))\n",
    "adam = tf.keras.optimizers.Adam(lr=0.001)\n"
   ]
  },
  {
   "cell_type": "code",
   "execution_count": 33,
   "metadata": {},
   "outputs": [
    {
     "name": "stdout",
     "output_type": "stream",
     "text": [
      "Model: \"sequential_5\"\n",
      "_________________________________________________________________\n",
      "Layer (type)                 Output Shape              Param #   \n",
      "=================================================================\n",
      "mobilenetv2_1.00_128 (Functi (None, 4, 4, 1280)        2257984   \n",
      "_________________________________________________________________\n",
      "batch_normalization_18 (Batc (None, 4, 4, 1280)        5120      \n",
      "_________________________________________________________________\n",
      "activation_19 (Activation)   (None, 4, 4, 1280)        0         \n",
      "_________________________________________________________________\n",
      "max_pooling2d_16 (MaxPooling (None, 2, 2, 1280)        0         \n",
      "_________________________________________________________________\n",
      "conv2d_14 (Conv2D)           (None, 2, 2, 16)          184336    \n",
      "_________________________________________________________________\n",
      "batch_normalization_19 (Batc (None, 2, 2, 16)          64        \n",
      "_________________________________________________________________\n",
      "activation_20 (Activation)   (None, 2, 2, 16)          0         \n",
      "_________________________________________________________________\n",
      "max_pooling2d_17 (MaxPooling (None, 1, 1, 16)          0         \n",
      "_________________________________________________________________\n",
      "conv2d_15 (Conv2D)           (None, 1, 1, 32)          4640      \n",
      "_________________________________________________________________\n",
      "batch_normalization_20 (Batc (None, 1, 1, 32)          128       \n",
      "_________________________________________________________________\n",
      "activation_21 (Activation)   (None, 1, 1, 32)          0         \n",
      "_________________________________________________________________\n",
      "max_pooling2d_18 (MaxPooling (None, 1, 1, 32)          0         \n",
      "_________________________________________________________________\n",
      "conv2d_16 (Conv2D)           (None, 1, 1, 64)          18496     \n",
      "_________________________________________________________________\n",
      "batch_normalization_21 (Batc (None, 1, 1, 64)          256       \n",
      "_________________________________________________________________\n",
      "activation_22 (Activation)   (None, 1, 1, 64)          0         \n",
      "_________________________________________________________________\n",
      "max_pooling2d_19 (MaxPooling (None, 1, 1, 64)          0         \n",
      "_________________________________________________________________\n",
      "flatten_1 (Flatten)          (None, 64)                0         \n",
      "_________________________________________________________________\n",
      "dense_2 (Dense)              (None, 4096)              266240    \n",
      "_________________________________________________________________\n",
      "batch_normalization_22 (Batc (None, 4096)              16384     \n",
      "_________________________________________________________________\n",
      "activation_23 (Activation)   (None, 4096)              0         \n",
      "_________________________________________________________________\n",
      "dropout_1 (Dropout)          (None, 4096)              0         \n",
      "_________________________________________________________________\n",
      "dense_3 (Dense)              (None, 2)                 8194      \n",
      "_________________________________________________________________\n",
      "activation_24 (Activation)   (None, 2)                 0         \n",
      "=================================================================\n",
      "Total params: 2,761,842\n",
      "Trainable params: 2,716,754\n",
      "Non-trainable params: 45,088\n",
      "_________________________________________________________________\n"
     ]
    }
   ],
   "source": [
    "new_model.summary()"
   ]
  },
  {
   "cell_type": "code",
   "execution_count": 34,
   "metadata": {},
   "outputs": [
    {
     "name": "stdout",
     "output_type": "stream",
     "text": [
      "Epoch 1/50\n",
      "50/50 [==============================] - 10s 191ms/step - loss: 1.9431 - acc: 0.7196 - val_loss: 1.6496 - val_acc: 0.5139\n",
      "Epoch 2/50\n",
      "50/50 [==============================] - 7s 146ms/step - loss: 1.2016 - acc: 0.8645 - val_loss: 1.4196 - val_acc: 0.5139\n",
      "Epoch 3/50\n",
      "50/50 [==============================] - 7s 147ms/step - loss: 0.8009 - acc: 0.9307 - val_loss: 1.2200 - val_acc: 0.5139\n",
      "Epoch 4/50\n",
      "50/50 [==============================] - 7s 147ms/step - loss: 0.6148 - acc: 0.9452 - val_loss: 1.0836 - val_acc: 0.5139\n",
      "Epoch 5/50\n",
      "50/50 [==============================] - 7s 147ms/step - loss: 0.4433 - acc: 0.9603 - val_loss: 1.0376 - val_acc: 0.5139\n",
      "Epoch 6/50\n",
      "50/50 [==============================] - 7s 147ms/step - loss: 0.3156 - acc: 0.9729 - val_loss: 0.9065 - val_acc: 0.5139\n",
      "Epoch 7/50\n",
      "50/50 [==============================] - 7s 147ms/step - loss: 0.2358 - acc: 0.9824 - val_loss: 0.9381 - val_acc: 0.5139\n",
      "Epoch 8/50\n",
      "50/50 [==============================] - 7s 147ms/step - loss: 0.2115 - acc: 0.9779 - val_loss: 1.0118 - val_acc: 0.4861\n",
      "Epoch 9/50\n",
      "50/50 [==============================] - 7s 147ms/step - loss: 0.1371 - acc: 0.9855 - val_loss: 0.7833 - val_acc: 0.4861\n",
      "Epoch 10/50\n",
      "50/50 [==============================] - 7s 147ms/step - loss: 0.1171 - acc: 0.9855 - val_loss: 1.1580 - val_acc: 0.5139\n",
      "Epoch 11/50\n",
      "50/50 [==============================] - 7s 148ms/step - loss: 0.1075 - acc: 0.9830 - val_loss: 0.8857 - val_acc: 0.4861\n",
      "Epoch 12/50\n",
      "50/50 [==============================] - 7s 147ms/step - loss: 0.0744 - acc: 0.9880 - val_loss: 1.2481 - val_acc: 0.4861\n",
      "Epoch 13/50\n",
      "50/50 [==============================] - 7s 148ms/step - loss: 0.0777 - acc: 0.9842 - val_loss: 3.8088 - val_acc: 0.4861\n",
      "Epoch 14/50\n",
      "50/50 [==============================] - 7s 148ms/step - loss: 0.0882 - acc: 0.9830 - val_loss: 0.8091 - val_acc: 0.5139\n",
      "Epoch 15/50\n",
      "50/50 [==============================] - 7s 147ms/step - loss: 0.0407 - acc: 0.9962 - val_loss: 0.7168 - val_acc: 0.5013\n",
      "Epoch 16/50\n",
      "50/50 [==============================] - 7s 148ms/step - loss: 0.0865 - acc: 0.9836 - val_loss: 6.3617 - val_acc: 0.4861\n",
      "Epoch 17/50\n",
      "50/50 [==============================] - 7s 148ms/step - loss: 0.0723 - acc: 0.9855 - val_loss: 1.9024 - val_acc: 0.4861\n",
      "Epoch 18/50\n",
      "50/50 [==============================] - 7s 148ms/step - loss: 0.0705 - acc: 0.9842 - val_loss: 5.5606 - val_acc: 0.4861\n",
      "Epoch 19/50\n",
      "50/50 [==============================] - 7s 147ms/step - loss: 0.1039 - acc: 0.9761 - val_loss: 0.9073 - val_acc: 0.4861\n",
      "Epoch 20/50\n",
      "50/50 [==============================] - 7s 148ms/step - loss: 0.0836 - acc: 0.9811 - val_loss: 2.5600 - val_acc: 0.5139\n",
      "Epoch 21/50\n",
      "50/50 [==============================] - 7s 148ms/step - loss: 0.0814 - acc: 0.9798 - val_loss: 0.9049 - val_acc: 0.5139\n",
      "Epoch 22/50\n",
      "50/50 [==============================] - 7s 148ms/step - loss: 0.0651 - acc: 0.9861 - val_loss: 1.4087 - val_acc: 0.5139\n",
      "Epoch 23/50\n",
      "50/50 [==============================] - 7s 148ms/step - loss: 0.0584 - acc: 0.9842 - val_loss: 1.1072 - val_acc: 0.5139\n",
      "Epoch 24/50\n",
      "50/50 [==============================] - 7s 148ms/step - loss: 0.0568 - acc: 0.9855 - val_loss: 6.7746 - val_acc: 0.4861\n",
      "Epoch 25/50\n",
      "50/50 [==============================] - 7s 148ms/step - loss: 0.0391 - acc: 0.9924 - val_loss: 1.2378 - val_acc: 0.4861\n",
      "Epoch 26/50\n",
      "50/50 [==============================] - 7s 148ms/step - loss: 0.0531 - acc: 0.9861 - val_loss: 0.9893 - val_acc: 0.4861\n",
      "Epoch 27/50\n",
      "50/50 [==============================] - 7s 148ms/step - loss: 0.0755 - acc: 0.9830 - val_loss: 1.1453 - val_acc: 0.4861\n",
      "Epoch 28/50\n",
      "50/50 [==============================] - 8s 152ms/step - loss: 0.0543 - acc: 0.9887 - val_loss: 1.1758 - val_acc: 0.4861\n",
      "Epoch 29/50\n",
      "50/50 [==============================] - 7s 149ms/step - loss: 0.0544 - acc: 0.9868 - val_loss: 2.4261 - val_acc: 0.5139\n",
      "Epoch 30/50\n",
      "50/50 [==============================] - 7s 148ms/step - loss: 0.0665 - acc: 0.9830 - val_loss: 5.0996 - val_acc: 0.4861\n",
      "Epoch 31/50\n",
      "50/50 [==============================] - 7s 149ms/step - loss: 0.0612 - acc: 0.9855 - val_loss: 5.3064 - val_acc: 0.4861\n",
      "Epoch 32/50\n",
      "50/50 [==============================] - 8s 150ms/step - loss: 0.0575 - acc: 0.9868 - val_loss: 4.5133 - val_acc: 0.4861\n",
      "Epoch 33/50\n",
      "50/50 [==============================] - 8s 151ms/step - loss: 0.0425 - acc: 0.9893 - val_loss: 3.1811 - val_acc: 0.4861\n",
      "Epoch 34/50\n",
      "50/50 [==============================] - 8s 152ms/step - loss: 0.0674 - acc: 0.9861 - val_loss: 0.7536 - val_acc: 0.5139\n",
      "Epoch 35/50\n",
      "50/50 [==============================] - 8s 151ms/step - loss: 0.0540 - acc: 0.9905 - val_loss: 0.7114 - val_acc: 0.4685\n",
      "Epoch 36/50\n",
      "50/50 [==============================] - 8s 151ms/step - loss: 0.0412 - acc: 0.9905 - val_loss: 0.8340 - val_acc: 0.4861\n",
      "Epoch 37/50\n",
      "50/50 [==============================] - 8s 151ms/step - loss: 0.0661 - acc: 0.9842 - val_loss: 0.8322 - val_acc: 0.4861\n",
      "Epoch 38/50\n",
      "50/50 [==============================] - 8s 151ms/step - loss: 0.0733 - acc: 0.9836 - val_loss: 2.3019 - val_acc: 0.5139\n",
      "Epoch 39/50\n",
      "50/50 [==============================] - 8s 151ms/step - loss: 0.0380 - acc: 0.9924 - val_loss: 1.1449 - val_acc: 0.4861\n",
      "Epoch 40/50\n",
      "50/50 [==============================] - 8s 151ms/step - loss: 0.0252 - acc: 0.9962 - val_loss: 1.1830 - val_acc: 0.5139\n",
      "Epoch 41/50\n",
      "50/50 [==============================] - 8s 152ms/step - loss: 0.0578 - acc: 0.9855 - val_loss: 1.0234 - val_acc: 0.5139\n",
      "Epoch 42/50\n",
      "50/50 [==============================] - 8s 153ms/step - loss: 0.0976 - acc: 0.9805 - val_loss: 3.6083 - val_acc: 0.5139\n",
      "Epoch 43/50\n",
      "50/50 [==============================] - 8s 153ms/step - loss: 0.0575 - acc: 0.9880 - val_loss: 1.2406 - val_acc: 0.4861\n",
      "Epoch 44/50\n",
      "50/50 [==============================] - 7s 150ms/step - loss: 0.0285 - acc: 0.9956 - val_loss: 1.2453 - val_acc: 0.5139\n",
      "Epoch 45/50\n",
      "50/50 [==============================] - 7s 147ms/step - loss: 0.0132 - acc: 0.9987 - val_loss: 1.0781 - val_acc: 0.5139\n",
      "Epoch 46/50\n",
      "50/50 [==============================] - 7s 149ms/step - loss: 0.0232 - acc: 0.9943 - val_loss: 0.7957 - val_acc: 0.4861\n",
      "Epoch 47/50\n",
      "50/50 [==============================] - 7s 150ms/step - loss: 0.0421 - acc: 0.9912 - val_loss: 2.0413 - val_acc: 0.5139\n",
      "Epoch 48/50\n",
      "50/50 [==============================] - 7s 149ms/step - loss: 0.0264 - acc: 0.9943 - val_loss: 0.7647 - val_acc: 0.5139\n",
      "Epoch 49/50\n",
      "50/50 [==============================] - 7s 149ms/step - loss: 0.0215 - acc: 0.9968 - val_loss: 1.2101 - val_acc: 0.4861\n",
      "Epoch 50/50\n",
      "50/50 [==============================] - 7s 148ms/step - loss: 0.0346 - acc: 0.9924 - val_loss: 1.2044 - val_acc: 0.5139\n"
     ]
    }
   ],
   "source": [
    "epochs = 50\n",
    "num_classes = 2\n",
    "\n",
    "#compila e treina o modelo com os dados carregados\n",
    "new_model.compile(loss='sparse_categorical_crossentropy', metrics=['acc'], optimizer=adam)\n",
    "model_trained = new_model.fit(train_x, train_label,epochs=epochs,verbose=1,validation_data=(validation_x, validation_label),shuffle=False)"
   ]
  },
  {
   "cell_type": "code",
   "execution_count": null,
   "metadata": {},
   "outputs": [],
   "source": [
    "model.summary()"
   ]
  },
  {
   "cell_type": "markdown",
   "metadata": {},
   "source": [
    "**Random Forest**"
   ]
  },
  {
   "cell_type": "code",
   "execution_count": null,
   "metadata": {},
   "outputs": [],
   "source": [
    "from sklearn import metrics\n",
    "from sklearn.ensemble import RandomForestClassifier\n",
    "from sklearn import tree\n",
    "import numpy as np\n",
    "import seaborn as sns\n",
    "import matplotlib.pylab as plt"
   ]
  },
  {
   "cell_type": "code",
   "execution_count": null,
   "metadata": {},
   "outputs": [],
   "source": [
    "test_x = np.load('test_x.npy')\n",
    "test_label = np.load('test_label.npy')"
   ]
  },
  {
   "cell_type": "code",
   "execution_count": null,
   "metadata": {},
   "outputs": [],
   "source": [
    "new_model2 = keras.Model(inputs=new_model.input, outputs=new_model.get_layer('flatten').output)\n",
    "featureVector = new_model2.predict(train_x)"
   ]
  },
  {
   "cell_type": "code",
   "execution_count": null,
   "metadata": {},
   "outputs": [],
   "source": [
    "featureVector2 = new_model2.predict(test_x)\n"
   ]
  },
  {
   "cell_type": "code",
   "execution_count": null,
   "metadata": {},
   "outputs": [],
   "source": [
    "print(featureVector.shape)"
   ]
  },
  {
   "cell_type": "code",
   "execution_count": null,
   "metadata": {},
   "outputs": [],
   "source": [
    "from sklearn.ensemble import RandomForestClassifier"
   ]
  },
  {
   "cell_type": "code",
   "execution_count": null,
   "metadata": {},
   "outputs": [],
   "source": [
    "clf=RandomForestClassifier(n_estimators=100)\n",
    "\n",
    "clf.fit(featureVector,train_label)\n",
    "\n"
   ]
  },
  {
   "cell_type": "code",
   "execution_count": null,
   "metadata": {},
   "outputs": [],
   "source": [
    "test_x.shape"
   ]
  },
  {
   "cell_type": "code",
   "execution_count": null,
   "metadata": {},
   "outputs": [],
   "source": [
    "y_pred=clf.predict(featureVector2)"
   ]
  },
  {
   "cell_type": "code",
   "execution_count": null,
   "metadata": {},
   "outputs": [],
   "source": [
    "featureVector.shape"
   ]
  },
  {
   "cell_type": "code",
   "execution_count": null,
   "metadata": {},
   "outputs": [],
   "source": [
    "from sklearn import metrics\n",
    "print(\"Accuracy:\",metrics.accuracy_score(test_label, y_pred))"
   ]
  },
  {
   "cell_type": "code",
   "execution_count": null,
   "metadata": {},
   "outputs": [],
   "source": [
    "from sklearn.tree import DecisionTreeClassifier"
   ]
  },
  {
   "cell_type": "code",
   "execution_count": null,
   "metadata": {},
   "outputs": [],
   "source": [
    "clf = DecisionTreeClassifier(random_state=0)"
   ]
  },
  {
   "cell_type": "markdown",
   "metadata": {
    "id": "v2tUu9UW4S_S"
   },
   "source": [
    "# **Testes**"
   ]
  },
  {
   "cell_type": "code",
   "execution_count": null,
   "metadata": {
    "id": "-02BWWgF4V9h"
   },
   "outputs": [],
   "source": [
    "import matplotlib.pyplot as plt\n",
    "\n",
    "accuracy = model_trained.history['acc']\n",
    "val_accuracy = model_trained.history['val_acc']\n",
    "loss = model_trained.history['loss']\n",
    "val_loss = model_trained.history['val_loss']\n",
    "epochs = range(len(accuracy))\n",
    "plt.plot(epochs, accuracy, 'b', label='Training accuracy')\n",
    "plt.plot(epochs, val_accuracy, 'g', label='Validation accuracy')\n",
    "plt.title('Training and validation accuracy')\n",
    "plt.legend()\n",
    "plt.figure()\n",
    "plt.plot(epochs, loss, 'b', label='Training loss')\n",
    "plt.plot(epochs, val_loss, 'g', label='Validation loss')\n",
    "plt.title('Training and validation loss')\n",
    "plt.legend()\n",
    "plt.show()"
   ]
  },
  {
   "cell_type": "code",
   "execution_count": null,
   "metadata": {
    "id": "On7_hNmrOysp"
   },
   "outputs": [],
   "source": [
    "#avalia a fase de teste\n",
    "\n",
    "model_loss, model_accuracy = new_model.evaluate(test_x, test_label, verbose=1)\n",
    "\n",
    "#mostra o resultado\n",
    "print('Test loss:', model_loss)\n",
    "print('Test accuracy:', model_accuracy)"
   ]
  },
  {
   "cell_type": "code",
   "execution_count": null,
   "metadata": {
    "id": "uGYRlhnq8wsF"
   },
   "outputs": [],
   "source": [
    "#faz a predição das imagens\n",
    "\n",
    "from tensorflow.keras.utils import to_categorical\n",
    "\n",
    "pred = new_model.predict(test_x, verbose=0)\n",
    "\n",
    "pred_probs = np.argmax(pred,axis=1)"
   ]
  },
  {
   "cell_type": "code",
   "execution_count": null,
   "metadata": {
    "id": "Vt4jZ2jB8ygE"
   },
   "outputs": [],
   "source": [
    "from sklearn.metrics import confusion_matrix\n",
    "from sklearn.metrics import classification_report\n",
    "from sklearn.metrics import accuracy_score\n",
    "from sklearn.metrics import f1_score"
   ]
  },
  {
   "cell_type": "code",
   "execution_count": null,
   "metadata": {
    "id": "9gx5yvuU84UC"
   },
   "outputs": [],
   "source": [
    "cm = confusion_matrix(test_label, pred_probs)"
   ]
  },
  {
   "cell_type": "code",
   "execution_count": null,
   "metadata": {
    "id": "NUrE8yfU86OL"
   },
   "outputs": [],
   "source": [
    "#gera os valores de falso positivo, falso negativo, verdadeiro positivo e verdadeiro negativo\n",
    "fp = cm.sum(axis=0) - np.diag(cm)  \n",
    "fn = cm.sum(axis=1) - np.diag(cm)\n",
    "tp = np.diag(cm)\n",
    "tn = cm.sum() - (fp + fn + tp)\n",
    "\n",
    "f1score = f1_score(test_label, pred_probs, average='weighted')\n",
    "sensitivity = tp / (tp + fn)\n",
    "specificity = tn / (tn + fp)\n",
    "accuracy    = (tp + tn) / (tp + tn + fp + fn)\n",
    "precision   = tp / (tp + fp)\n",
    "\n",
    "\n",
    "print(\"F1 Score:\", f1score)\n",
    "print(\"Sensitivity:\", sensitivity)\n",
    "print(\"Specificity:\", specificity)\n",
    "print(\"Precision:  \", precision)\n",
    "print(\"Accuracy:   \", accuracy)"
   ]
  },
  {
   "cell_type": "code",
   "execution_count": null,
   "metadata": {},
   "outputs": [],
   "source": []
  }
 ],
 "metadata": {
  "colab": {
   "collapsed_sections": [],
   "name": "covid_alex_holdout_cropping_tgo.ipynb",
   "provenance": []
  },
  "kernelspec": {
   "display_name": "tf15",
   "language": "python",
   "name": "tf15"
  },
  "language_info": {
   "codemirror_mode": {
    "name": "ipython",
    "version": 3
   },
   "file_extension": ".py",
   "mimetype": "text/x-python",
   "name": "python",
   "nbconvert_exporter": "python",
   "pygments_lexer": "ipython3",
   "version": "3.6.13"
  }
 },
 "nbformat": 4,
 "nbformat_minor": 1
}
